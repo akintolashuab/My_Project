{
 "cells": [
  {
   "cell_type": "markdown",
   "metadata": {},
   "source": [
    "## MACHINE LEARNING "
   ]
  },
  {
   "cell_type": "markdown",
   "metadata": {},
   "source": [
    "## Supervised learning \n",
    " > Given a dataset of input-output pairs, learn a function to map inputs to outputs e.g regression analysis\n"
   ]
  },
  {
   "cell_type": "markdown",
   "metadata": {},
   "source": [
    "## Classification as a type of supervised learning\n",
    "the task of learning a function mapping an input to a descrete category\n"
   ]
  },
  {
   "cell_type": "markdown",
   "metadata": {},
   "source": [
    "## DATA MINING\n",
    "Mainly three data mining process frameworks have been most popular, and widely\n",
    "practiced by data mining experts/researchers to build machine learning systems. These\n",
    "models are the following:\n",
    "    \n",
    "    \n",
    "• Knowledge Discovery Databases (KDD) process model\n",
    "\n",
    "• CRoss Industrial Standard Process for Data Mining (CRISP – DM)\n",
    "\n",
    "• Sample, Explore, Modify, Model and Assess (SEMMA)"
   ]
  },
  {
   "cell_type": "code",
   "execution_count": 1,
   "metadata": {},
   "outputs": [],
   "source": [
    "import numpy as np"
   ]
  },
  {
   "cell_type": "code",
   "execution_count": 2,
   "metadata": {},
   "outputs": [
    {
     "name": "stdout",
     "output_type": "stream",
     "text": [
      "[Ellipsis, 0]\n"
     ]
    }
   ],
   "source": [
    "x = [...,0]\n",
    "print(x)"
   ]
  },
  {
   "cell_type": "markdown",
   "metadata": {},
   "source": [
    "y = np.array([[[1],[2],[3]], [[4],[5],[6]]])\n",
    "y[1:3]"
   ]
  },
  {
   "cell_type": "code",
   "execution_count": 4,
   "metadata": {},
   "outputs": [
    {
     "data": {
      "text/plain": [
       "(3, 4)"
      ]
     },
     "execution_count": 4,
     "metadata": {},
     "output_type": "execute_result"
    }
   ],
   "source": [
    "a = np.array([[5,6,7,8], [1,2,3,4], [9,10,11,12]])\n",
    "a.shape"
   ]
  },
  {
   "cell_type": "code",
   "execution_count": 5,
   "metadata": {},
   "outputs": [
    {
     "data": {
      "text/plain": [
       "(2, 3, 1)"
      ]
     },
     "execution_count": 5,
     "metadata": {},
     "output_type": "execute_result"
    }
   ],
   "source": [
    "y = np.array([[[1],[2],[3]], [[4],[5],[6]]])\n",
    "y.shape"
   ]
  },
  {
   "cell_type": "markdown",
   "metadata": {},
   "source": [
    "# Handling Categorical Data\n",
    "## Creating dummy variables\n",
    "\n",
    "This is a Boolean variable that indicates the presence of\n",
    "a category with the value 1 and 0 for absence. You should create k-1 dummy variables,\n",
    "where k is the number of levels. Scikit-learn provides a useful function ‘One Hot Encoder’\n",
    "to create a dummy variable for a given categorical variable"
   ]
  },
  {
   "cell_type": "code",
   "execution_count": 6,
   "metadata": {},
   "outputs": [
    {
     "name": "stdout",
     "output_type": "stream",
     "text": [
      "        A   B\n",
      "0    high  10\n",
      "1  medium  20\n",
      "2     low  30\n"
     ]
    }
   ],
   "source": [
    "import pandas as pd\n",
    "from patsy import dmatrices\n",
    "df = pd.DataFrame({'A': ['high', 'medium', 'low'],\n",
    "'B': [10,20,30]},\n",
    "index=[0, 1, 2])\n",
    "print(df)"
   ]
  },
  {
   "cell_type": "code",
   "execution_count": 7,
   "metadata": {},
   "outputs": [
    {
     "name": "stdout",
     "output_type": "stream",
     "text": [
      "    B  A_high  A_low  A_medium\n",
      "0  10       1      0         0\n",
      "1  20       0      0         1\n",
      "2  30       0      1         0\n"
     ]
    }
   ],
   "source": [
    "# using get_dummies function of pandas package\n",
    "df_with_dummies= pd.get_dummies(df, prefix='A', columns=['A'])\n",
    "print (df_with_dummies)"
   ]
  },
  {
   "cell_type": "code",
   "execution_count": 8,
   "metadata": {},
   "outputs": [
    {
     "name": "stdout",
     "output_type": "stream",
     "text": [
      "        A   B  A_pd_factorized  A_LabelEncoded\n",
      "0    high  10                0               0\n",
      "1  medium  20                1               2\n",
      "2     low  30                2               1\n"
     ]
    }
   ],
   "source": [
    "df['A_pd_factorized'] = pd.factorize(df['A'])[0]\n",
    "from sklearn.preprocessing import LabelEncoder \n",
    "le = LabelEncoder()\n",
    "df['A_LabelEncoded'] = le.fit_transform(df.A)\n",
    "print(df)"
   ]
  },
  {
   "cell_type": "code",
   "execution_count": 9,
   "metadata": {},
   "outputs": [],
   "source": [
    "from sklearn import datasets\n",
    "import numpy as np\n",
    "from sklearn import preprocessing\n",
    "iris = datasets.load_iris()\n",
    "#print(iris)\n",
    "X = iris.data[:, [2, 3]]\n",
    "y = iris.target\n",
    "#print(y)\n",
    "#print(X)"
   ]
  },
  {
   "cell_type": "code",
   "execution_count": 10,
   "metadata": {},
   "outputs": [],
   "source": [
    "std_scale = preprocessing.StandardScaler().fit(X)\n",
    "X_std = std_scale.transform(X)"
   ]
  },
  {
   "cell_type": "code",
   "execution_count": 11,
   "metadata": {},
   "outputs": [],
   "source": [
    "minmax_scale = preprocessing.MinMaxScaler().fit(X)\n",
    "X_minmax = minmax_scale.transform(X)"
   ]
  },
  {
   "cell_type": "code",
   "execution_count": 12,
   "metadata": {},
   "outputs": [
    {
     "name": "stdout",
     "output_type": "stream",
     "text": [
      "Mean before standardization: petal length=3.8, petal width=1.2\n",
      "SD before standardization: petal length=1.8, petal width=0.8\n"
     ]
    }
   ],
   "source": [
    "print('Mean before standardization: petal length={:.1f}, petal width={:.1f}'\n",
    ".format(X[:,0].mean(), X[:,1].mean()))\n",
    "print('SD before standardization: petal length={:.1f}, petal width={:.1f}'\n",
    ".format(X[:,0].std(), X[:,1].std()))"
   ]
  },
  {
   "cell_type": "code",
   "execution_count": 13,
   "metadata": {},
   "outputs": [
    {
     "name": "stdout",
     "output_type": "stream",
     "text": [
      "{'data': array([[5.1, 3.5, 1.4, 0.2],\n",
      "       [4.9, 3. , 1.4, 0.2],\n",
      "       [4.7, 3.2, 1.3, 0.2],\n",
      "       [4.6, 3.1, 1.5, 0.2],\n",
      "       [5. , 3.6, 1.4, 0.2],\n",
      "       [5.4, 3.9, 1.7, 0.4],\n",
      "       [4.6, 3.4, 1.4, 0.3],\n",
      "       [5. , 3.4, 1.5, 0.2],\n",
      "       [4.4, 2.9, 1.4, 0.2],\n",
      "       [4.9, 3.1, 1.5, 0.1],\n",
      "       [5.4, 3.7, 1.5, 0.2],\n",
      "       [4.8, 3.4, 1.6, 0.2],\n",
      "       [4.8, 3. , 1.4, 0.1],\n",
      "       [4.3, 3. , 1.1, 0.1],\n",
      "       [5.8, 4. , 1.2, 0.2],\n",
      "       [5.7, 4.4, 1.5, 0.4],\n",
      "       [5.4, 3.9, 1.3, 0.4],\n",
      "       [5.1, 3.5, 1.4, 0.3],\n",
      "       [5.7, 3.8, 1.7, 0.3],\n",
      "       [5.1, 3.8, 1.5, 0.3],\n",
      "       [5.4, 3.4, 1.7, 0.2],\n",
      "       [5.1, 3.7, 1.5, 0.4],\n",
      "       [4.6, 3.6, 1. , 0.2],\n",
      "       [5.1, 3.3, 1.7, 0.5],\n",
      "       [4.8, 3.4, 1.9, 0.2],\n",
      "       [5. , 3. , 1.6, 0.2],\n",
      "       [5. , 3.4, 1.6, 0.4],\n",
      "       [5.2, 3.5, 1.5, 0.2],\n",
      "       [5.2, 3.4, 1.4, 0.2],\n",
      "       [4.7, 3.2, 1.6, 0.2],\n",
      "       [4.8, 3.1, 1.6, 0.2],\n",
      "       [5.4, 3.4, 1.5, 0.4],\n",
      "       [5.2, 4.1, 1.5, 0.1],\n",
      "       [5.5, 4.2, 1.4, 0.2],\n",
      "       [4.9, 3.1, 1.5, 0.2],\n",
      "       [5. , 3.2, 1.2, 0.2],\n",
      "       [5.5, 3.5, 1.3, 0.2],\n",
      "       [4.9, 3.6, 1.4, 0.1],\n",
      "       [4.4, 3. , 1.3, 0.2],\n",
      "       [5.1, 3.4, 1.5, 0.2],\n",
      "       [5. , 3.5, 1.3, 0.3],\n",
      "       [4.5, 2.3, 1.3, 0.3],\n",
      "       [4.4, 3.2, 1.3, 0.2],\n",
      "       [5. , 3.5, 1.6, 0.6],\n",
      "       [5.1, 3.8, 1.9, 0.4],\n",
      "       [4.8, 3. , 1.4, 0.3],\n",
      "       [5.1, 3.8, 1.6, 0.2],\n",
      "       [4.6, 3.2, 1.4, 0.2],\n",
      "       [5.3, 3.7, 1.5, 0.2],\n",
      "       [5. , 3.3, 1.4, 0.2],\n",
      "       [7. , 3.2, 4.7, 1.4],\n",
      "       [6.4, 3.2, 4.5, 1.5],\n",
      "       [6.9, 3.1, 4.9, 1.5],\n",
      "       [5.5, 2.3, 4. , 1.3],\n",
      "       [6.5, 2.8, 4.6, 1.5],\n",
      "       [5.7, 2.8, 4.5, 1.3],\n",
      "       [6.3, 3.3, 4.7, 1.6],\n",
      "       [4.9, 2.4, 3.3, 1. ],\n",
      "       [6.6, 2.9, 4.6, 1.3],\n",
      "       [5.2, 2.7, 3.9, 1.4],\n",
      "       [5. , 2. , 3.5, 1. ],\n",
      "       [5.9, 3. , 4.2, 1.5],\n",
      "       [6. , 2.2, 4. , 1. ],\n",
      "       [6.1, 2.9, 4.7, 1.4],\n",
      "       [5.6, 2.9, 3.6, 1.3],\n",
      "       [6.7, 3.1, 4.4, 1.4],\n",
      "       [5.6, 3. , 4.5, 1.5],\n",
      "       [5.8, 2.7, 4.1, 1. ],\n",
      "       [6.2, 2.2, 4.5, 1.5],\n",
      "       [5.6, 2.5, 3.9, 1.1],\n",
      "       [5.9, 3.2, 4.8, 1.8],\n",
      "       [6.1, 2.8, 4. , 1.3],\n",
      "       [6.3, 2.5, 4.9, 1.5],\n",
      "       [6.1, 2.8, 4.7, 1.2],\n",
      "       [6.4, 2.9, 4.3, 1.3],\n",
      "       [6.6, 3. , 4.4, 1.4],\n",
      "       [6.8, 2.8, 4.8, 1.4],\n",
      "       [6.7, 3. , 5. , 1.7],\n",
      "       [6. , 2.9, 4.5, 1.5],\n",
      "       [5.7, 2.6, 3.5, 1. ],\n",
      "       [5.5, 2.4, 3.8, 1.1],\n",
      "       [5.5, 2.4, 3.7, 1. ],\n",
      "       [5.8, 2.7, 3.9, 1.2],\n",
      "       [6. , 2.7, 5.1, 1.6],\n",
      "       [5.4, 3. , 4.5, 1.5],\n",
      "       [6. , 3.4, 4.5, 1.6],\n",
      "       [6.7, 3.1, 4.7, 1.5],\n",
      "       [6.3, 2.3, 4.4, 1.3],\n",
      "       [5.6, 3. , 4.1, 1.3],\n",
      "       [5.5, 2.5, 4. , 1.3],\n",
      "       [5.5, 2.6, 4.4, 1.2],\n",
      "       [6.1, 3. , 4.6, 1.4],\n",
      "       [5.8, 2.6, 4. , 1.2],\n",
      "       [5. , 2.3, 3.3, 1. ],\n",
      "       [5.6, 2.7, 4.2, 1.3],\n",
      "       [5.7, 3. , 4.2, 1.2],\n",
      "       [5.7, 2.9, 4.2, 1.3],\n",
      "       [6.2, 2.9, 4.3, 1.3],\n",
      "       [5.1, 2.5, 3. , 1.1],\n",
      "       [5.7, 2.8, 4.1, 1.3],\n",
      "       [6.3, 3.3, 6. , 2.5],\n",
      "       [5.8, 2.7, 5.1, 1.9],\n",
      "       [7.1, 3. , 5.9, 2.1],\n",
      "       [6.3, 2.9, 5.6, 1.8],\n",
      "       [6.5, 3. , 5.8, 2.2],\n",
      "       [7.6, 3. , 6.6, 2.1],\n",
      "       [4.9, 2.5, 4.5, 1.7],\n",
      "       [7.3, 2.9, 6.3, 1.8],\n",
      "       [6.7, 2.5, 5.8, 1.8],\n",
      "       [7.2, 3.6, 6.1, 2.5],\n",
      "       [6.5, 3.2, 5.1, 2. ],\n",
      "       [6.4, 2.7, 5.3, 1.9],\n",
      "       [6.8, 3. , 5.5, 2.1],\n",
      "       [5.7, 2.5, 5. , 2. ],\n",
      "       [5.8, 2.8, 5.1, 2.4],\n",
      "       [6.4, 3.2, 5.3, 2.3],\n",
      "       [6.5, 3. , 5.5, 1.8],\n",
      "       [7.7, 3.8, 6.7, 2.2],\n",
      "       [7.7, 2.6, 6.9, 2.3],\n",
      "       [6. , 2.2, 5. , 1.5],\n",
      "       [6.9, 3.2, 5.7, 2.3],\n",
      "       [5.6, 2.8, 4.9, 2. ],\n",
      "       [7.7, 2.8, 6.7, 2. ],\n",
      "       [6.3, 2.7, 4.9, 1.8],\n",
      "       [6.7, 3.3, 5.7, 2.1],\n",
      "       [7.2, 3.2, 6. , 1.8],\n",
      "       [6.2, 2.8, 4.8, 1.8],\n",
      "       [6.1, 3. , 4.9, 1.8],\n",
      "       [6.4, 2.8, 5.6, 2.1],\n",
      "       [7.2, 3. , 5.8, 1.6],\n",
      "       [7.4, 2.8, 6.1, 1.9],\n",
      "       [7.9, 3.8, 6.4, 2. ],\n",
      "       [6.4, 2.8, 5.6, 2.2],\n",
      "       [6.3, 2.8, 5.1, 1.5],\n",
      "       [6.1, 2.6, 5.6, 1.4],\n",
      "       [7.7, 3. , 6.1, 2.3],\n",
      "       [6.3, 3.4, 5.6, 2.4],\n",
      "       [6.4, 3.1, 5.5, 1.8],\n",
      "       [6. , 3. , 4.8, 1.8],\n",
      "       [6.9, 3.1, 5.4, 2.1],\n",
      "       [6.7, 3.1, 5.6, 2.4],\n",
      "       [6.9, 3.1, 5.1, 2.3],\n",
      "       [5.8, 2.7, 5.1, 1.9],\n",
      "       [6.8, 3.2, 5.9, 2.3],\n",
      "       [6.7, 3.3, 5.7, 2.5],\n",
      "       [6.7, 3. , 5.2, 2.3],\n",
      "       [6.3, 2.5, 5. , 1.9],\n",
      "       [6.5, 3. , 5.2, 2. ],\n",
      "       [6.2, 3.4, 5.4, 2.3],\n",
      "       [5.9, 3. , 5.1, 1.8]]), 'target': array([0, 0, 0, 0, 0, 0, 0, 0, 0, 0, 0, 0, 0, 0, 0, 0, 0, 0, 0, 0, 0, 0,\n",
      "       0, 0, 0, 0, 0, 0, 0, 0, 0, 0, 0, 0, 0, 0, 0, 0, 0, 0, 0, 0, 0, 0,\n",
      "       0, 0, 0, 0, 0, 0, 1, 1, 1, 1, 1, 1, 1, 1, 1, 1, 1, 1, 1, 1, 1, 1,\n",
      "       1, 1, 1, 1, 1, 1, 1, 1, 1, 1, 1, 1, 1, 1, 1, 1, 1, 1, 1, 1, 1, 1,\n",
      "       1, 1, 1, 1, 1, 1, 1, 1, 1, 1, 1, 1, 2, 2, 2, 2, 2, 2, 2, 2, 2, 2,\n",
      "       2, 2, 2, 2, 2, 2, 2, 2, 2, 2, 2, 2, 2, 2, 2, 2, 2, 2, 2, 2, 2, 2,\n",
      "       2, 2, 2, 2, 2, 2, 2, 2, 2, 2, 2, 2, 2, 2, 2, 2, 2, 2]), 'frame': None, 'target_names': array(['setosa', 'versicolor', 'virginica'], dtype='<U10'), 'DESCR': '.. _iris_dataset:\\n\\nIris plants dataset\\n--------------------\\n\\n**Data Set Characteristics:**\\n\\n    :Number of Instances: 150 (50 in each of three classes)\\n    :Number of Attributes: 4 numeric, predictive attributes and the class\\n    :Attribute Information:\\n        - sepal length in cm\\n        - sepal width in cm\\n        - petal length in cm\\n        - petal width in cm\\n        - class:\\n                - Iris-Setosa\\n                - Iris-Versicolour\\n                - Iris-Virginica\\n                \\n    :Summary Statistics:\\n\\n    ============== ==== ==== ======= ===== ====================\\n                    Min  Max   Mean    SD   Class Correlation\\n    ============== ==== ==== ======= ===== ====================\\n    sepal length:   4.3  7.9   5.84   0.83    0.7826\\n    sepal width:    2.0  4.4   3.05   0.43   -0.4194\\n    petal length:   1.0  6.9   3.76   1.76    0.9490  (high!)\\n    petal width:    0.1  2.5   1.20   0.76    0.9565  (high!)\\n    ============== ==== ==== ======= ===== ====================\\n\\n    :Missing Attribute Values: None\\n    :Class Distribution: 33.3% for each of 3 classes.\\n    :Creator: R.A. Fisher\\n    :Donor: Michael Marshall (MARSHALL%PLU@io.arc.nasa.gov)\\n    :Date: July, 1988\\n\\nThe famous Iris database, first used by Sir R.A. Fisher. The dataset is taken\\nfrom Fisher\\'s paper. Note that it\\'s the same as in R, but not as in the UCI\\nMachine Learning Repository, which has two wrong data points.\\n\\nThis is perhaps the best known database to be found in the\\npattern recognition literature.  Fisher\\'s paper is a classic in the field and\\nis referenced frequently to this day.  (See Duda & Hart, for example.)  The\\ndata set contains 3 classes of 50 instances each, where each class refers to a\\ntype of iris plant.  One class is linearly separable from the other 2; the\\nlatter are NOT linearly separable from each other.\\n\\n.. topic:: References\\n\\n   - Fisher, R.A. \"The use of multiple measurements in taxonomic problems\"\\n     Annual Eugenics, 7, Part II, 179-188 (1936); also in \"Contributions to\\n     Mathematical Statistics\" (John Wiley, NY, 1950).\\n   - Duda, R.O., & Hart, P.E. (1973) Pattern Classification and Scene Analysis.\\n     (Q327.D83) John Wiley & Sons.  ISBN 0-471-22361-1.  See page 218.\\n   - Dasarathy, B.V. (1980) \"Nosing Around the Neighborhood: A New System\\n     Structure and Classification Rule for Recognition in Partially Exposed\\n     Environments\".  IEEE Transactions on Pattern Analysis and Machine\\n     Intelligence, Vol. PAMI-2, No. 1, 67-71.\\n   - Gates, G.W. (1972) \"The Reduced Nearest Neighbor Rule\".  IEEE Transactions\\n     on Information Theory, May 1972, 431-433.\\n   - See also: 1988 MLC Proceedings, 54-64.  Cheeseman et al\"s AUTOCLASS II\\n     conceptual clustering system finds 3 classes in the data.\\n   - Many, many more ...', 'feature_names': ['sepal length (cm)', 'sepal width (cm)', 'petal length (cm)', 'petal width (cm)'], 'filename': 'C:\\\\Users\\\\USER\\\\anaconda3\\\\lib\\\\site-packages\\\\sklearn\\\\datasets\\\\data\\\\iris.csv'}\n"
     ]
    }
   ],
   "source": [
    "from sklearn import datasets\n",
    "import numpy as np\n",
    "import pandas as pd\n",
    "import matplotlib.pyplot as plt\n",
    "iris = datasets.load_iris()\n",
    "print(iris)"
   ]
  },
  {
   "cell_type": "code",
   "execution_count": 14,
   "metadata": {},
   "outputs": [
    {
     "name": "stdout",
     "output_type": "stream",
     "text": [
      "     sepal length (cm)  sepal width (cm)  petal length (cm)  petal width (cm)  \\\n",
      "0                  5.1               3.5                1.4               0.2   \n",
      "1                  4.9               3.0                1.4               0.2   \n",
      "2                  4.7               3.2                1.3               0.2   \n",
      "3                  4.6               3.1                1.5               0.2   \n",
      "4                  5.0               3.6                1.4               0.2   \n",
      "..                 ...               ...                ...               ...   \n",
      "145                6.7               3.0                5.2               2.3   \n",
      "146                6.3               2.5                5.0               1.9   \n",
      "147                6.5               3.0                5.2               2.0   \n",
      "148                6.2               3.4                5.4               2.3   \n",
      "149                5.9               3.0                5.1               1.8   \n",
      "\n",
      "     species  \n",
      "0        0.0  \n",
      "1        0.0  \n",
      "2        0.0  \n",
      "3        0.0  \n",
      "4        0.0  \n",
      "..       ...  \n",
      "145      2.0  \n",
      "146      2.0  \n",
      "147      2.0  \n",
      "148      2.0  \n",
      "149      2.0  \n",
      "\n",
      "[150 rows x 5 columns]\n"
     ]
    }
   ],
   "source": [
    "# Let's convert to dataframe\n",
    "iris = pd.DataFrame(data= np.c_[iris['data'], iris['target']],\n",
    "columns= iris['feature_names'] + ['species'])\n",
    "print(iris)"
   ]
  },
  {
   "cell_type": "code",
   "execution_count": 15,
   "metadata": {},
   "outputs": [],
   "source": [
    "# replace the values with class labels\n",
    "iris.species = np.where(iris.species == 0.0, 'setosa', np.where(iris.species==1.0,'versicolor', 'virginica'))\n",
    "pd.set_option('display.max_rows', None)\n",
    "pd.set_option('display.max_columns', None)\n",
    "pd.set_option('display.width', None)\n",
    "#print(iris)"
   ]
  },
  {
   "cell_type": "code",
   "execution_count": 16,
   "metadata": {},
   "outputs": [
    {
     "name": "stdout",
     "output_type": "stream",
     "text": [
      "<class 'pandas.core.frame.DataFrame'>\n",
      "RangeIndex: 150 entries, 0 to 149\n",
      "Data columns (total 5 columns):\n",
      " #   Column             Non-Null Count  Dtype  \n",
      "---  ------             --------------  -----  \n",
      " 0   sepalRlengthR(cm)  150 non-null    float64\n",
      " 1   sepalRwidthR(cm)   150 non-null    float64\n",
      " 2   petalRlengthR(cm)  150 non-null    float64\n",
      " 3   petalRwidthR(cm)   150 non-null    float64\n",
      " 4   species            150 non-null    object \n",
      "dtypes: float64(4), object(1)\n",
      "memory usage: 6.0+ KB\n"
     ]
    }
   ],
   "source": [
    "# let's remove spaces from column name\n",
    "iris.columns = iris.columns.str.replace(' ','R')\n",
    "iris.describe()\n",
    "iris.info()"
   ]
  },
  {
   "cell_type": "code",
   "execution_count": 17,
   "metadata": {},
   "outputs": [
    {
     "name": "stdout",
     "output_type": "stream",
     "text": [
      "versicolor    50\n",
      "setosa        50\n",
      "virginica     50\n",
      "Name: species, dtype: int64\n"
     ]
    }
   ],
   "source": [
    "print ( iris['species'].value_counts())"
   ]
  },
  {
   "cell_type": "code",
   "execution_count": 18,
   "metadata": {},
   "outputs": [
    {
     "data": {
      "text/plain": [
       "<Figure size 1080x576 with 0 Axes>"
      ]
     },
     "metadata": {},
     "output_type": "display_data"
    },
    {
     "data": {
      "image/png": "[encoded data removed]",
      "text/plain": [
       "<Figure size 432x288 with 4 Axes>"
      ]
     },
     "metadata": {
      "needs_background": "light"
     },
     "output_type": "display_data"
    }
   ],
   "source": [
    "# Set the size of the plot\n",
    "plt.figure(figsize=(15, 8))\n",
    "iris.hist() # plot histogram\n",
    "plt.suptitle(\"Histogram\", fontsize=16) # use suptitle to add title to all\n",
    "plt.show()"
   ]
  },
  {
   "cell_type": "code",
   "execution_count": 19,
   "metadata": {},
   "outputs": [
    {
     "data": {
      "image/png": "[encoded data removed]",
      "text/plain": [
       "<Figure size 432x288 with 1 Axes>"
      ]
     },
     "metadata": {
      "needs_background": "light"
     },
     "output_type": "display_data"
    }
   ],
   "source": [
    "iris.boxplot() # plot boxplot\n",
    "plt.title(\"Bar Plot\", fontsize=16)\n",
    "#plt.grid()\n",
    "plt.show()"
   ]
  },
  {
   "cell_type": "code",
   "execution_count": 20,
   "metadata": {},
   "outputs": [
    {
     "data": {
      "text/html": [
       "<div>\n",
       "<style scoped>\n",
       "    .dataframe tbody tr th:only-of-type {\n",
       "        vertical-align: middle;\n",
       "    }\n",
       "\n",
       "    .dataframe tbody tr th {\n",
       "        vertical-align: top;\n",
       "    }\n",
       "\n",
       "    .dataframe thead th {\n",
       "        text-align: right;\n",
       "    }\n",
       "</style>\n",
       "<table border=\"1\" class=\"dataframe\">\n",
       "  <thead>\n",
       "    <tr style=\"text-align: right;\">\n",
       "      <th></th>\n",
       "      <th>sepalRlengthR(cm)</th>\n",
       "      <th>sepalRwidthR(cm)</th>\n",
       "      <th>petalRlengthR(cm)</th>\n",
       "      <th>petalRwidthR(cm)</th>\n",
       "    </tr>\n",
       "    <tr>\n",
       "      <th>species</th>\n",
       "      <th></th>\n",
       "      <th></th>\n",
       "      <th></th>\n",
       "      <th></th>\n",
       "    </tr>\n",
       "  </thead>\n",
       "  <tbody>\n",
       "    <tr>\n",
       "      <th>setosa</th>\n",
       "      <td>5.006</td>\n",
       "      <td>3.428</td>\n",
       "      <td>1.462</td>\n",
       "      <td>0.246</td>\n",
       "    </tr>\n",
       "    <tr>\n",
       "      <th>versicolor</th>\n",
       "      <td>5.936</td>\n",
       "      <td>2.770</td>\n",
       "      <td>4.260</td>\n",
       "      <td>1.326</td>\n",
       "    </tr>\n",
       "    <tr>\n",
       "      <th>virginica</th>\n",
       "      <td>6.588</td>\n",
       "      <td>2.974</td>\n",
       "      <td>5.552</td>\n",
       "      <td>2.026</td>\n",
       "    </tr>\n",
       "  </tbody>\n",
       "</table>\n",
       "</div>"
      ],
      "text/plain": [
       "            sepalRlengthR(cm)  sepalRwidthR(cm)  petalRlengthR(cm)  \\\n",
       "species                                                              \n",
       "setosa                  5.006             3.428              1.462   \n",
       "versicolor              5.936             2.770              4.260   \n",
       "virginica               6.588             2.974              5.552   \n",
       "\n",
       "            petalRwidthR(cm)  \n",
       "species                       \n",
       "setosa                 0.246  \n",
       "versicolor             1.326  \n",
       "virginica              2.026  "
      ]
     },
     "execution_count": 20,
     "metadata": {},
     "output_type": "execute_result"
    }
   ],
   "source": [
    "# print the mean for each column by species\n",
    "iris.groupby(by = \"species\").mean()"
   ]
  },
  {
   "cell_type": "code",
   "execution_count": 21,
   "metadata": {},
   "outputs": [
    {
     "data": {
      "image/png": "[encoded data removed]",
      "text/plain": [
       "<Figure size 432x288 with 1 Axes>"
      ]
     },
     "metadata": {
      "needs_background": "light"
     },
     "output_type": "display_data"
    }
   ],
   "source": [
    "# plot for mean of each feature for each label class\n",
    "iris.groupby(by = \"species\").mean().plot(kind=\"bar\")\n",
    "plt.title(\"A Plot\")\n",
    "plt.show()"
   ]
  },
  {
   "cell_type": "code",
   "execution_count": 22,
   "metadata": {},
   "outputs": [
    {
     "data": {
      "image/png": "[encoded data removed]",
      "text/plain": [
       "<Figure size 432x288 with 1 Axes>"
      ]
     },
     "metadata": {
      "needs_background": "light"
     },
     "output_type": "display_data"
    }
   ],
   "source": [
    "iris.groupby(by = \"species\").mean().plot(kind=\"bar\")\n",
    "plt.title('Class vs Measurements')\n",
    "plt.ylabel('mean measurement(cm)')\n",
    "plt.xticks(rotation=0) # manage the xticks rotation\n",
    "plt.grid(True)\n",
    "# Use bbox_to_anchor option to place the legend outside plot area to be tidy\n",
    "plt.legend(loc=\"upper left\", bbox_to_anchor=(1,1))\n",
    "plt.show()"
   ]
  },
  {
   "cell_type": "code",
   "execution_count": 23,
   "metadata": {},
   "outputs": [
    {
     "name": "stdout",
     "output_type": "stream",
     "text": [
      "                   sepalRlengthR(cm)  sepalRwidthR(cm)  petalRlengthR(cm)  \\\n",
      "sepalRlengthR(cm)           1.000000         -0.117570           0.871754   \n",
      "sepalRwidthR(cm)           -0.117570          1.000000          -0.428440   \n",
      "petalRlengthR(cm)           0.871754         -0.428440           1.000000   \n",
      "petalRwidthR(cm)            0.817941         -0.366126           0.962865   \n",
      "\n",
      "                   petalRwidthR(cm)  \n",
      "sepalRlengthR(cm)          0.817941  \n",
      "sepalRwidthR(cm)          -0.366126  \n",
      "petalRlengthR(cm)          0.962865  \n",
      "petalRwidthR(cm)           1.000000  \n"
     ]
    }
   ],
   "source": [
    "# create correlation matrix\n",
    "corr = iris.corr()\n",
    "print(corr)"
   ]
  },
  {
   "cell_type": "code",
   "execution_count": 24,
   "metadata": {},
   "outputs": [
    {
     "data": {
      "image/png": "[encoded data removed]",
      "text/plain": [
       "<Figure size 432x288 with 2 Axes>"
      ]
     },
     "metadata": {
      "needs_background": "light"
     },
     "output_type": "display_data"
    }
   ],
   "source": [
    "import statsmodels.api as sm\n",
    "sm.graphics.plot_corr(corr, xnames=list(corr.columns))\n",
    "plt.show()"
   ]
  },
  {
   "cell_type": "code",
   "execution_count": 25,
   "metadata": {},
   "outputs": [
    {
     "data": {
      "image/png": "[encoded data removed]",
      "text/plain": [
       "<Figure size 720x720 with 16 Axes>"
      ]
     },
     "metadata": {
      "needs_background": "light"
     },
     "output_type": "display_data"
    }
   ],
   "source": [
    "from pandas.plotting import scatter_matrix\n",
    "scatter_matrix(iris, figsize=(10, 10))\n",
    "plt.show()"
   ]
  },
  {
   "cell_type": "code",
   "execution_count": 26,
   "metadata": {},
   "outputs": [
    {
     "name": "stdout",
     "output_type": "stream",
     "text": [
      "   Hours_Studied  Test_Grade\n",
      "0              2          57\n",
      "1              3          66\n",
      "2              4          73\n",
      "3              5          76\n",
      "4              6          79\n",
      "5              7          81\n",
      "6              8          90\n",
      "7              9          96\n",
      "8             10         100\n",
      "<class 'pandas.core.frame.DataFrame'>\n",
      "RangeIndex: 9 entries, 0 to 8\n",
      "Data columns (total 2 columns):\n",
      " #   Column         Non-Null Count  Dtype\n",
      "---  ------         --------------  -----\n",
      " 0   Hours_Studied  9 non-null      int64\n",
      " 1   Test_Grade     9 non-null      int64\n",
      "dtypes: int64(2)\n",
      "memory usage: 272.0 bytes\n"
     ]
    },
    {
     "data": {
      "text/html": [
       "<div>\n",
       "<style scoped>\n",
       "    .dataframe tbody tr th:only-of-type {\n",
       "        vertical-align: middle;\n",
       "    }\n",
       "\n",
       "    .dataframe tbody tr th {\n",
       "        vertical-align: top;\n",
       "    }\n",
       "\n",
       "    .dataframe thead th {\n",
       "        text-align: right;\n",
       "    }\n",
       "</style>\n",
       "<table border=\"1\" class=\"dataframe\">\n",
       "  <thead>\n",
       "    <tr style=\"text-align: right;\">\n",
       "      <th></th>\n",
       "      <th>Hours_Studied</th>\n",
       "      <th>Test_Grade</th>\n",
       "    </tr>\n",
       "  </thead>\n",
       "  <tbody>\n",
       "    <tr>\n",
       "      <th>count</th>\n",
       "      <td>9.000000</td>\n",
       "      <td>9.000000</td>\n",
       "    </tr>\n",
       "    <tr>\n",
       "      <th>mean</th>\n",
       "      <td>6.000000</td>\n",
       "      <td>79.777778</td>\n",
       "    </tr>\n",
       "    <tr>\n",
       "      <th>std</th>\n",
       "      <td>2.738613</td>\n",
       "      <td>13.908431</td>\n",
       "    </tr>\n",
       "    <tr>\n",
       "      <th>min</th>\n",
       "      <td>2.000000</td>\n",
       "      <td>57.000000</td>\n",
       "    </tr>\n",
       "    <tr>\n",
       "      <th>25%</th>\n",
       "      <td>4.000000</td>\n",
       "      <td>73.000000</td>\n",
       "    </tr>\n",
       "    <tr>\n",
       "      <th>50%</th>\n",
       "      <td>6.000000</td>\n",
       "      <td>79.000000</td>\n",
       "    </tr>\n",
       "    <tr>\n",
       "      <th>75%</th>\n",
       "      <td>8.000000</td>\n",
       "      <td>90.000000</td>\n",
       "    </tr>\n",
       "    <tr>\n",
       "      <th>max</th>\n",
       "      <td>10.000000</td>\n",
       "      <td>100.000000</td>\n",
       "    </tr>\n",
       "  </tbody>\n",
       "</table>\n",
       "</div>"
      ],
      "text/plain": [
       "       Hours_Studied  Test_Grade\n",
       "count       9.000000    9.000000\n",
       "mean        6.000000   79.777778\n",
       "std         2.738613   13.908431\n",
       "min         2.000000   57.000000\n",
       "25%         4.000000   73.000000\n",
       "50%         6.000000   79.000000\n",
       "75%         8.000000   90.000000\n",
       "max        10.000000  100.000000"
      ]
     },
     "execution_count": 26,
     "metadata": {},
     "output_type": "execute_result"
    }
   ],
   "source": [
    "import pandas as pd\n",
    "df = pd.read_csv('Grade_Set_1.csv')\n",
    "print(df)\n",
    "df.info()\n",
    "df.describe()"
   ]
  },
  {
   "cell_type": "code",
   "execution_count": 27,
   "metadata": {},
   "outputs": [
    {
     "name": "stdout",
     "output_type": "stream",
     "text": [
      "<class 'pandas.core.frame.DataFrame'>\n",
      "RangeIndex: 9 entries, 0 to 8\n",
      "Data columns (total 2 columns):\n",
      " #   Column         Non-Null Count  Dtype\n",
      "---  ------         --------------  -----\n",
      " 0   Hours_Studied  9 non-null      int64\n",
      " 1   Test_Grade     9 non-null      int64\n",
      "dtypes: int64(2)\n",
      "memory usage: 272.0 bytes\n"
     ]
    },
    {
     "data": {
      "text/html": [
       "<div>\n",
       "<style scoped>\n",
       "    .dataframe tbody tr th:only-of-type {\n",
       "        vertical-align: middle;\n",
       "    }\n",
       "\n",
       "    .dataframe tbody tr th {\n",
       "        vertical-align: top;\n",
       "    }\n",
       "\n",
       "    .dataframe thead th {\n",
       "        text-align: right;\n",
       "    }\n",
       "</style>\n",
       "<table border=\"1\" class=\"dataframe\">\n",
       "  <thead>\n",
       "    <tr style=\"text-align: right;\">\n",
       "      <th></th>\n",
       "      <th>Hours_Studied</th>\n",
       "      <th>Test_Grade</th>\n",
       "    </tr>\n",
       "  </thead>\n",
       "  <tbody>\n",
       "    <tr>\n",
       "      <th>Hours_Studied</th>\n",
       "      <td>1.000000</td>\n",
       "      <td>0.987797</td>\n",
       "    </tr>\n",
       "    <tr>\n",
       "      <th>Test_Grade</th>\n",
       "      <td>0.987797</td>\n",
       "      <td>1.000000</td>\n",
       "    </tr>\n",
       "  </tbody>\n",
       "</table>\n",
       "</div>"
      ],
      "text/plain": [
       "               Hours_Studied  Test_Grade\n",
       "Hours_Studied       1.000000    0.987797\n",
       "Test_Grade          0.987797    1.000000"
      ]
     },
     "execution_count": 27,
     "metadata": {},
     "output_type": "execute_result"
    }
   ],
   "source": [
    "df.info()\n",
    "df.corr()"
   ]
  },
  {
   "cell_type": "code",
   "execution_count": 28,
   "metadata": {},
   "outputs": [
    {
     "name": "stdout",
     "output_type": "stream",
     "text": [
      "0     57\n",
      "1     66\n",
      "2     73\n",
      "3     76\n",
      "4     79\n",
      "5     81\n",
      "6     90\n",
      "7     96\n",
      "8    100\n",
      "Name: Test_Grade, dtype: int64\n"
     ]
    }
   ],
   "source": [
    "x= df['Test_Grade']\n",
    "print(x)"
   ]
  },
  {
   "cell_type": "code",
   "execution_count": 29,
   "metadata": {},
   "outputs": [
    {
     "data": {
      "text/plain": [
       "Index(['Hours_Studied', 'Test_Grade'], dtype='object')"
      ]
     },
     "execution_count": 29,
     "metadata": {},
     "output_type": "execute_result"
    }
   ],
   "source": [
    "df.columns"
   ]
  },
  {
   "cell_type": "code",
   "execution_count": 30,
   "metadata": {},
   "outputs": [
    {
     "data": {
      "image/png": "[encoded data removed]",
      "text/plain": [
       "<Figure size 432x288 with 1 Axes>"
      ]
     },
     "metadata": {
      "needs_background": "light"
     },
     "output_type": "display_data"
    }
   ],
   "source": [
    "import matplotlib.pyplot as plt\n",
    "plt.scatter(df['Hours_Studied'],df['Test_Grade'])\n",
    "plt.show()"
   ]
  },
  {
   "cell_type": "code",
   "execution_count": 31,
   "metadata": {},
   "outputs": [
    {
     "data": {
      "image/png": "[encoded data removed]",
      "text/plain": [
       "<Figure size 432x288 with 1 Axes>"
      ]
     },
     "metadata": {
      "needs_background": "light"
     },
     "output_type": "display_data"
    }
   ],
   "source": [
    "df.plot(kind='scatter', x='Hours_Studied', y='Test_Grade', title='Grade vs Hours Studied')\n",
    "plt.show()"
   ]
  },
  {
   "cell_type": "code",
   "execution_count": 32,
   "metadata": {},
   "outputs": [
    {
     "name": "stderr",
     "output_type": "stream",
     "text": [
      "<ipython-input-32-14f741f4f7a7>:6: FutureWarning: Support for multi-dimensional indexing (e.g. `obj[:, None]`) is deprecated and will be removed in a future version.  Convert to a numpy array before indexing instead.\n",
      "  x= df.Hours_Studied[:, np.newaxis] # independent variable\n"
     ]
    },
    {
     "name": "stdout",
     "output_type": "stream",
     "text": [
      "Intercept:  49.67777777777776\n",
      "Coefficient:  [5.01666667]\n",
      "Manual prdiction : 80.7485207083\n",
      "Using predict function:  [79.77777778]\n"
     ]
    },
    {
     "data": {
      "image/png": "[encoded data removed]",
      "text/plain": [
       "<Figure size 432x288 with 1 Axes>"
      ]
     },
     "metadata": {
      "needs_background": "light"
     },
     "output_type": "display_data"
    }
   ],
   "source": [
    "import numpy as np\n",
    "# importing linear regression function\n",
    "import sklearn.linear_model as lm\n",
    "# Create linear regression object\n",
    "lr = lm.LinearRegression()\n",
    "x= df.Hours_Studied[:, np.newaxis] # independent variable\n",
    "y= df.Test_Grade.values # dependent variable\n",
    "# Train the model using the training sets\n",
    "lr.fit(x, y)\n",
    "print( \"Intercept: \", lr.intercept_)\n",
    "print (\"Coefficient: \", lr.coef_)\n",
    "# manual prediction for a given value of x\n",
    "print (\"Manual prdiction :\", 52.2928994083 + 4.74260355*6)\n",
    "# predict using the built-in function\n",
    "print (\"Using predict function: \", lr.predict(np.array([[6]])))\n",
    "# plotting fitted line\n",
    "plt.scatter(x, y, color='black')\n",
    "plt.plot(x, lr.predict(x), color='blue', linewidth=1)\n",
    "plt.plot(x,y, color = 'green', linewidth = 1)\n",
    "plt.title('Grade vs Hours Studied')\n",
    "plt.ylabel('Test_Grade')\n",
    "plt.xlabel('Hours_Studied')\n",
    "plt.show()"
   ]
  },
  {
   "cell_type": "code",
   "execution_count": 33,
   "metadata": {},
   "outputs": [],
   "source": [
    "df['predicted_value'] = lr.predict(x)\n",
    "w = df['predicted_value']"
   ]
  },
  {
   "cell_type": "code",
   "execution_count": 34,
   "metadata": {},
   "outputs": [
    {
     "data": {
      "text/plain": [
       "Index(['Hours_Studied', 'Test_Grade', 'predicted_value'], dtype='object')"
      ]
     },
     "execution_count": 34,
     "metadata": {},
     "output_type": "execute_result"
    }
   ],
   "source": [
    "df.columns"
   ]
  },
  {
   "cell_type": "markdown",
   "metadata": {},
   "source": [
    "## my own code "
   ]
  },
  {
   "cell_type": "code",
   "execution_count": 35,
   "metadata": {},
   "outputs": [
    {
     "name": "stdout",
     "output_type": "stream",
     "text": [
      "79.77777777777777\n",
      "1510.0166666666673\n",
      "1547.5555555555557\n",
      "0.9757431074095351\n"
     ]
    }
   ],
   "source": [
    "y_bar = df['Test_Grade'].mean()\n",
    "print(y_bar)\n",
    "SSR = ((w-y_bar)**2).sum()\n",
    "print(SSR)\n",
    "z=df['Test_Grade']\n",
    "SST = ((z-y_bar)**2).sum()\n",
    "print(SST)\n",
    "R_squared = SSR/SST\n",
    "print(R_squared)"
   ]
  },
  {
   "cell_type": "code",
   "execution_count": 36,
   "metadata": {},
   "outputs": [
    {
     "name": "stdout",
     "output_type": "stream",
     "text": [
      "Sum of SSR: 1510.0166666666673\n",
      "Sum of SST: 1547.5555555555557\n",
      "R Squared using manual calculation:  0.9757431074095351\n",
      "R Squared using built-in function:  0.9751400830748741\n",
      "Mean Absolute Error:  1.618518518518523\n",
      "Root Mean Squared Error:  2.0422995995497297\n"
     ]
    }
   ],
   "source": [
    "# function to calculate r-squared, MAE, RMSE\n",
    "from sklearn.metrics import r2_score , mean_absolute_error, mean_squared_error\n",
    "# add predict value to the data frame\n",
    "df['Test_Grade_Pred'] = lr.predict(x)\n",
    "# Manually calculating R Squared\n",
    "df['SST'] = np.square(df['Test_Grade'] - df['Test_Grade'].mean())\n",
    "df['SSR'] = np.square(df['Test_Grade_Pred'] - df['Test_Grade'].mean())\n",
    "print (\"Sum of SSR:\", df['SSR'].sum())\n",
    "print (\"Sum of SST:\", df['SST'].sum())\n",
    "print (\"R Squared using manual calculation: \", df['SSR'].sum() / df['SST'].sum())\n",
    "# Using built-in function\n",
    "print (\"R Squared using built-in function: \", r2_score(df.Test_Grade_Pred, y))\n",
    "print (\"Mean Absolute Error: \", mean_absolute_error(df.Test_Grade, df.Test_Grade_Pred))\n",
    "print (\"Root Mean Squared Error: \", np.sqrt(mean_squared_error(df.Test_Grade, df.Test_Grade_Pred)))"
   ]
  },
  {
   "cell_type": "code",
   "execution_count": 37,
   "metadata": {},
   "outputs": [
    {
     "name": "stdout",
     "output_type": "stream",
     "text": [
      "                            OLS Regression Results                            \n",
      "==============================================================================\n",
      "Dep. Variable:                      y   R-squared:                       0.976\n",
      "Model:                            OLS   Adj. R-squared:                  0.972\n",
      "Method:                 Least Squares   F-statistic:                     281.6\n",
      "Date:                Wed, 23 Nov 2022   Prob (F-statistic):           6.53e-07\n",
      "Time:                        08:59:48   Log-Likelihood:                -19.197\n",
      "No. Observations:                   9   AIC:                             42.39\n",
      "Df Residuals:                       7   BIC:                             42.79\n",
      "Df Model:                           1                                         \n",
      "Covariance Type:            nonrobust                                         \n",
      "==============================================================================\n",
      "                 coef    std err          t      P>|t|      [0.025      0.975]\n",
      "------------------------------------------------------------------------------\n",
      "const         49.6778      1.953     25.439      0.000      45.060      54.295\n",
      "x1             5.0167      0.299     16.780      0.000       4.310       5.724\n",
      "==============================================================================\n",
      "Omnibus:                        0.676   Durbin-Watson:                   1.463\n",
      "Prob(Omnibus):                  0.713   Jarque-Bera (JB):                0.432\n",
      "Skew:                          -0.456   Prob(JB):                        0.806\n",
      "Kurtosis:                       2.433   Cond. No.                         16.9\n",
      "==============================================================================\n",
      "\n",
      "Notes:\n",
      "[1] Standard Errors assume that the covariance matrix of the errors is correctly specified.\n"
     ]
    },
    {
     "name": "stderr",
     "output_type": "stream",
     "text": [
      "C:\\Users\\USER\\anaconda3\\lib\\site-packages\\scipy\\stats\\stats.py:1603: UserWarning: kurtosistest only valid for n>=20 ... continuing anyway, n=9\n",
      "  warnings.warn(\"kurtosistest only valid for n>=20 ... continuing \"\n"
     ]
    }
   ],
   "source": [
    "from sklearn.linear_model import LinearRegression\n",
    "import statsmodels.api as sm\n",
    "\n",
    "#initiate linear regression model\n",
    "model = LinearRegression()\n",
    "x = sm.add_constant(x)\n",
    "#fit linear regression model\n",
    "model = sm.OLS(y, x).fit()\n",
    "\n",
    "#view model summary\n",
    "print(model.summary())"
   ]
  },
  {
   "cell_type": "code",
   "execution_count": 38,
   "metadata": {},
   "outputs": [
    {
     "data": {
      "image/png": "[encoded data removed]",
      "text/plain": [
       "<Figure size 432x288 with 6 Axes>"
      ]
     },
     "metadata": {
      "needs_background": "light"
     },
     "output_type": "display_data"
    }
   ],
   "source": [
    "x = np.linspace(-3,3,1000) # 1000 sample number between -3 to 3\n",
    "# Plot subplots\n",
    "fig, ((ax1, ax2, ax3), (ax4, ax5, ax6)) = plt.subplots(nrows=2, ncols=3)\n",
    "ax1.plot(x, x)\n",
    "ax1.set_title('linear')\n",
    "ax2.plot(x, x**2)\n",
    "ax2.set_title('degree 2')\n",
    "ax3.plot(x, x**3)\n",
    "ax3.set_title('degree 3')\n",
    "ax4.plot(x, x**4)\n",
    "ax4.set_title('degree 4')\n",
    "ax5.plot(x, x**5)\n",
    "ax5.set_title('degree 5')\n",
    "ax6.plot(x, x**6)\n",
    "ax6.set_title('degree 6')\n",
    "plt.tight_layout()# tidy layout"
   ]
  },
  {
   "cell_type": "code",
   "execution_count": 39,
   "metadata": {},
   "outputs": [
    {
     "name": "stderr",
     "output_type": "stream",
     "text": [
      "<ipython-input-39-2099ee94a505>:2: FutureWarning: Support for multi-dimensional indexing (e.g. `obj[:, None]`) is deprecated and will be removed in a future version.  Convert to a numpy array before indexing instead.\n",
      "  x= df.Hours_Studied[:, np.newaxis] # independent variable\n"
     ]
    },
    {
     "data": {
      "image/png": "[encoded data removed]",
      "text/plain": [
       "<Figure size 432x288 with 1 Axes>"
      ]
     },
     "metadata": {
      "needs_background": "light"
     },
     "output_type": "display_data"
    },
    {
     "name": "stdout",
     "output_type": "stream",
     "text": [
      "R Squared:  0.9757431074095347\n"
     ]
    }
   ],
   "source": [
    "#df.plot(kind='scatter', x='Hours_Studied', y='Test_Grade', title='Grade vs Hours Studied')\n",
    "x= df.Hours_Studied[:, np.newaxis] # independent variable\n",
    "y= df.Test_Grade\n",
    "plt.scatter(x, y, color='black')\n",
    "plt.plot(x, lr.predict(x), color='blue', linewidth=1.5)\n",
    "plt.title('Grade vs Hours Studied')\n",
    "plt.ylabel('Test_Grade')\n",
    "plt.xlabel('Hours_Studied')\n",
    "plt.show()\n",
    "print(\"R Squared: \", r2_score(y, lr.predict(x)))"
   ]
  },
  {
   "cell_type": "code",
   "execution_count": 40,
   "metadata": {},
   "outputs": [
    {
     "name": "stdout",
     "output_type": "stream",
     "text": [
      "   Hours_Studied  Test_Grade\n",
      "0              2          57\n",
      "1              3          66\n",
      "2              4          73\n",
      "3              5          76\n",
      "4              6          79\n",
      "5              7          81\n",
      "6              8          90\n",
      "7              9          96\n",
      "8             10         100\n"
     ]
    }
   ],
   "source": [
    "from sklearn import linear_model as lm\n",
    "lr = lm.LinearRegression()\n",
    "import statsmodels.api as sm\n",
    "import pandas as pd\n",
    "df = pd.read_csv('Grade_Set_1.csv')\n",
    "print(df)"
   ]
  },
  {
   "cell_type": "code",
   "execution_count": 41,
   "metadata": {},
   "outputs": [
    {
     "data": {
      "text/plain": [
       "Index(['Hours_Studied', 'Test_Grade'], dtype='object')"
      ]
     },
     "execution_count": 41,
     "metadata": {},
     "output_type": "execute_result"
    }
   ],
   "source": [
    "df.columns"
   ]
  },
  {
   "cell_type": "code",
   "execution_count": 42,
   "metadata": {},
   "outputs": [
    {
     "name": "stderr",
     "output_type": "stream",
     "text": [
      "<ipython-input-42-bb57f2f88bdc>:4: FutureWarning: Support for multi-dimensional indexing (e.g. `obj[:, None]`) is deprecated and will be removed in a future version.  Convert to a numpy array before indexing instead.\n",
      "  x= df.Hours_Studied[:, np.newaxis]\n"
     ]
    },
    {
     "name": "stdout",
     "output_type": "stream",
     "text": [
      "Intercept is 49.67777777777776\n",
      "Coefficient is [5.01666667]\n",
      "0    59.711111\n",
      "1    64.727778\n",
      "2    69.744444\n",
      "3    74.761111\n",
      "4    79.777778\n",
      "5    84.794444\n",
      "6    89.811111\n",
      "7    94.827778\n",
      "8    99.844444\n",
      "Name: predicted_value, dtype: float64\n"
     ]
    },
    {
     "data": {
      "image/png": "[encoded data removed]",
      "text/plain": [
       "<Figure size 432x288 with 1 Axes>"
      ]
     },
     "metadata": {
      "needs_background": "light"
     },
     "output_type": "display_data"
    },
    {
     "name": "stdout",
     "output_type": "stream",
     "text": [
      "Rsquared is 0.9757431074095347\n",
      "MSE is 4.170987654320986\n",
      "MAE is 1.618518518518523\n"
     ]
    }
   ],
   "source": [
    "import matplotlib.pyplot as plt\n",
    "import numpy as np\n",
    "from sklearn.metrics import r2_score , mean_absolute_error, mean_squared_error\n",
    "x= df.Hours_Studied[:, np.newaxis]\n",
    "y = df.Test_Grade.values\n",
    "lr.fit(x,y)\n",
    "print('Intercept is', lr.intercept_)\n",
    "print('Coefficient is', lr.coef_)\n",
    "#print(\"Rsquare is\", r2_score)\n",
    "df['predicted_value'] = lr.predict(x)\n",
    "w= df['predicted_value']\n",
    "print(w)\n",
    "#df.plot(kind = 'line', x = 'Hours_Studied', y =  'Test_Grade', title = 'Grade Vs Hours studied', color = 'hotpink')\n",
    "#df.plot(kind = 'line', x = 'Hours_Studied', y =  'predicted_value', title = 'Predicted Values', color = 'green')\n",
    "plt.scatter(x, y, color='blue')\n",
    "plt.plot(x, lr.predict(x), color='green', linewidth=1, label = 'Predicted value')\n",
    "plt.plot(x,y, color = 'hotpink', linewidth = 1, label = \"Given Values\")\n",
    "plt.title('Grade vs Hours Studied')\n",
    "plt.ylabel('Test_Grade')\n",
    "plt.xlabel('Hours_Studied')\n",
    "#plt.legend(frameon=False, loc = 'lower right', ncol = 2) #inner legend\n",
    "plt.legend(bbox_to_anchor=(1.5,1.0), loc = \"upper right\") #outer legend\n",
    "plt.show()\n",
    "print('Rsquared is', r2_score(y, df.predicted_value))\n",
    "print('MSE is', mean_squared_error(y, df.predicted_value))\n",
    "print('MAE is', mean_absolute_error(y, df.predicted_value))"
   ]
  },
  {
   "cell_type": "code",
   "execution_count": 43,
   "metadata": {},
   "outputs": [
    {
     "name": "stdout",
     "output_type": "stream",
     "text": [
      "                            OLS Regression Results                            \n",
      "==============================================================================\n",
      "Dep. Variable:                      y   R-squared:                       0.976\n",
      "Model:                            OLS   Adj. R-squared:                  0.972\n",
      "Method:                 Least Squares   F-statistic:                     281.6\n",
      "Date:                Wed, 23 Nov 2022   Prob (F-statistic):           6.53e-07\n",
      "Time:                        08:59:50   Log-Likelihood:                -19.197\n",
      "No. Observations:                   9   AIC:                             42.39\n",
      "Df Residuals:                       7   BIC:                             42.79\n",
      "Df Model:                           1                                         \n",
      "Covariance Type:            nonrobust                                         \n",
      "=================================================================================\n",
      "                    coef    std err          t      P>|t|      [0.025      0.975]\n",
      "---------------------------------------------------------------------------------\n",
      "const            49.6778      1.953     25.439      0.000      45.060      54.295\n",
      "Hours_Studied     5.0167      0.299     16.780      0.000       4.310       5.724\n",
      "==============================================================================\n",
      "Omnibus:                        0.676   Durbin-Watson:                   1.463\n",
      "Prob(Omnibus):                  0.713   Jarque-Bera (JB):                0.432\n",
      "Skew:                          -0.456   Prob(JB):                        0.806\n",
      "Kurtosis:                       2.433   Cond. No.                         16.9\n",
      "==============================================================================\n",
      "\n",
      "Notes:\n",
      "[1] Standard Errors assume that the covariance matrix of the errors is correctly specified.\n"
     ]
    },
    {
     "name": "stderr",
     "output_type": "stream",
     "text": [
      "C:\\Users\\USER\\anaconda3\\lib\\site-packages\\scipy\\stats\\stats.py:1603: UserWarning: kurtosistest only valid for n>=20 ... continuing anyway, n=9\n",
      "  warnings.warn(\"kurtosistest only valid for n>=20 ... continuing \"\n"
     ]
    }
   ],
   "source": [
    "import statsmodels.api as sm\n",
    "x =df[\"Hours_Studied\"]\n",
    "x = sm.add_constant(x)\n",
    "model = sm.OLS(y,x).fit()\n",
    "print(model.summary())"
   ]
  },
  {
   "cell_type": "markdown",
   "metadata": {},
   "source": [
    "## MULTIPLE LINEAR REGRESSION USING YOUTUBE VIDEO"
   ]
  },
  {
   "cell_type": "markdown",
   "metadata": {},
   "source": [
    "## IMPORT DATASET"
   ]
  },
  {
   "cell_type": "code",
   "execution_count": 44,
   "metadata": {},
   "outputs": [
    {
     "data": {
      "text/plain": [
       "'C:\\\\Users\\\\USER'"
      ]
     },
     "execution_count": 44,
     "metadata": {},
     "output_type": "execute_result"
    }
   ],
   "source": [
    "import os # first import os\n",
    "os.getcwd() #Get working Directory"
   ]
  },
  {
   "cell_type": "code",
   "execution_count": 45,
   "metadata": {},
   "outputs": [],
   "source": [
    "os.chdir(\"C:\\\\Users\\\\USER\\\\Documents\") # Change working Directory"
   ]
  },
  {
   "cell_type": "code",
   "execution_count": 46,
   "metadata": {},
   "outputs": [
    {
     "data": {
      "text/plain": [
       "'C:\\\\Users\\\\USER\\\\Documents'"
      ]
     },
     "execution_count": 46,
     "metadata": {},
     "output_type": "execute_result"
    }
   ],
   "source": [
    "os.getcwd()"
   ]
  },
  {
   "cell_type": "code",
   "execution_count": 47,
   "metadata": {},
   "outputs": [],
   "source": [
    "import pandas as pd\n",
    "import numpy as np"
   ]
  },
  {
   "cell_type": "code",
   "execution_count": 48,
   "metadata": {},
   "outputs": [
    {
     "data": {
      "text/html": [
       "<div>\n",
       "<style scoped>\n",
       "    .dataframe tbody tr th:only-of-type {\n",
       "        vertical-align: middle;\n",
       "    }\n",
       "\n",
       "    .dataframe tbody tr th {\n",
       "        vertical-align: top;\n",
       "    }\n",
       "\n",
       "    .dataframe thead th {\n",
       "        text-align: right;\n",
       "    }\n",
       "</style>\n",
       "<table border=\"1\" class=\"dataframe\">\n",
       "  <thead>\n",
       "    <tr style=\"text-align: right;\">\n",
       "      <th></th>\n",
       "      <th>AT</th>\n",
       "      <th>V</th>\n",
       "      <th>AP</th>\n",
       "      <th>RH</th>\n",
       "      <th>PE</th>\n",
       "    </tr>\n",
       "  </thead>\n",
       "  <tbody>\n",
       "    <tr>\n",
       "      <th>0</th>\n",
       "      <td>14.96</td>\n",
       "      <td>41.76</td>\n",
       "      <td>1024.07</td>\n",
       "      <td>73.17</td>\n",
       "      <td>463.26</td>\n",
       "    </tr>\n",
       "    <tr>\n",
       "      <th>1</th>\n",
       "      <td>25.18</td>\n",
       "      <td>62.96</td>\n",
       "      <td>1020.04</td>\n",
       "      <td>59.08</td>\n",
       "      <td>444.37</td>\n",
       "    </tr>\n",
       "    <tr>\n",
       "      <th>2</th>\n",
       "      <td>5.11</td>\n",
       "      <td>39.40</td>\n",
       "      <td>1012.16</td>\n",
       "      <td>92.14</td>\n",
       "      <td>488.56</td>\n",
       "    </tr>\n",
       "    <tr>\n",
       "      <th>3</th>\n",
       "      <td>20.86</td>\n",
       "      <td>57.32</td>\n",
       "      <td>1010.24</td>\n",
       "      <td>76.64</td>\n",
       "      <td>446.48</td>\n",
       "    </tr>\n",
       "    <tr>\n",
       "      <th>4</th>\n",
       "      <td>10.82</td>\n",
       "      <td>37.50</td>\n",
       "      <td>1009.23</td>\n",
       "      <td>96.62</td>\n",
       "      <td>473.90</td>\n",
       "    </tr>\n",
       "  </tbody>\n",
       "</table>\n",
       "</div>"
      ],
      "text/plain": [
       "      AT      V       AP     RH      PE\n",
       "0  14.96  41.76  1024.07  73.17  463.26\n",
       "1  25.18  62.96  1020.04  59.08  444.37\n",
       "2   5.11  39.40  1012.16  92.14  488.56\n",
       "3  20.86  57.32  1010.24  76.64  446.48\n",
       "4  10.82  37.50  1009.23  96.62  473.90"
      ]
     },
     "execution_count": 48,
     "metadata": {},
     "output_type": "execute_result"
    }
   ],
   "source": [
    "data_df = pd.read_csv('C:\\\\Users\\\\USER\\\\Documents\\\\MLPractice.csv')\n",
    "data_df.head()"
   ]
  },
  {
   "cell_type": "code",
   "execution_count": 49,
   "metadata": {},
   "outputs": [
    {
     "data": {
      "text/plain": [
       "Index(['AT', 'V', 'AP', 'RH', 'PE'], dtype='object')"
      ]
     },
     "execution_count": 49,
     "metadata": {},
     "output_type": "execute_result"
    }
   ],
   "source": [
    "data_df.columns"
   ]
  },
  {
   "cell_type": "markdown",
   "metadata": {},
   "source": [
    "## DEFINE DEPENDENT AND INDEPENDENT VARIABLES"
   ]
  },
  {
   "cell_type": "code",
   "execution_count": 50,
   "metadata": {},
   "outputs": [],
   "source": [
    "x = data_df[['AT', \"V\", \"AP\", 'RH']] # independent variable\n",
    "y = data_df[\"PE\"] # dependent variable"
   ]
  },
  {
   "cell_type": "code",
   "execution_count": 51,
   "metadata": {},
   "outputs": [],
   "source": [
    "# similarly \n",
    "x = data_df.drop(['PE'], axis =1).values\n",
    "y = data_df['PE'].values"
   ]
  },
  {
   "cell_type": "markdown",
   "metadata": {},
   "source": [
    "## SPLITTING DATA TO TRAINED DATA AND TEST DATA"
   ]
  },
  {
   "cell_type": "code",
   "execution_count": 52,
   "metadata": {},
   "outputs": [],
   "source": [
    "from sklearn.model_selection import train_test_split\n",
    "x_train, x_test, y_train, y_test = train_test_split( x, y, test_size=0.33, random_state=0)"
   ]
  },
  {
   "cell_type": "code",
   "execution_count": 53,
   "metadata": {},
   "outputs": [
    {
     "data": {
      "text/plain": [
       "LinearRegression()"
      ]
     },
     "execution_count": 53,
     "metadata": {},
     "output_type": "execute_result"
    }
   ],
   "source": [
    "from sklearn.linear_model import LinearRegression\n",
    "lr = LinearRegression()\n",
    "lr.fit(x_train,y_train)"
   ]
  },
  {
   "cell_type": "code",
   "execution_count": 54,
   "metadata": {},
   "outputs": [
    {
     "name": "stdout",
     "output_type": "stream",
     "text": [
      "                            OLS Regression Results                            \n",
      "==============================================================================\n",
      "Dep. Variable:                      y   R-squared:                       0.928\n",
      "Model:                            OLS   Adj. R-squared:                  0.927\n",
      "Method:                 Least Squares   F-statistic:                 2.049e+04\n",
      "Date:                Wed, 23 Nov 2022   Prob (F-statistic):               0.00\n",
      "Time:                        08:59:52   Log-Likelihood:                -18867.\n",
      "No. Observations:                6410   AIC:                         3.774e+04\n",
      "Df Residuals:                    6405   BIC:                         3.778e+04\n",
      "Df Model:                           4                                         \n",
      "Covariance Type:            nonrobust                                         \n",
      "==============================================================================\n",
      "                 coef    std err          t      P>|t|      [0.025      0.975]\n",
      "------------------------------------------------------------------------------\n",
      "const        450.0826     12.050     37.352      0.000     426.461     473.704\n",
      "x1            -1.9625      0.019   -104.184      0.000      -1.999      -1.926\n",
      "x2            -0.2421      0.009    -27.031      0.000      -0.260      -0.225\n",
      "x3             0.0667      0.012      5.702      0.000       0.044       0.090\n",
      "x4            -0.1575      0.005    -30.640      0.000      -0.168      -0.147\n",
      "==============================================================================\n",
      "Omnibus:                      810.850   Durbin-Watson:                   2.034\n",
      "Prob(Omnibus):                  0.000   Jarque-Bera (JB):             4447.460\n",
      "Skew:                          -0.481   Prob(JB):                         0.00\n",
      "Kurtosis:                       6.966   Cond. No.                     2.14e+05\n",
      "==============================================================================\n",
      "\n",
      "Notes:\n",
      "[1] Standard Errors assume that the covariance matrix of the errors is correctly specified.\n",
      "[2] The condition number is large, 2.14e+05. This might indicate that there are\n",
      "strong multicollinearity or other numerical problems.\n"
     ]
    }
   ],
   "source": [
    "import statsmodels.api as sm\n",
    "model = sm.OLS(y,x).fit()\n",
    "x_train = sm.add_constant(x_train)\n",
    "model = sm.OLS(y_train,x_train).fit()\n",
    "print(model.summary())"
   ]
  },
  {
   "cell_type": "code",
   "execution_count": 55,
   "metadata": {},
   "outputs": [
    {
     "name": "stdout",
     "output_type": "stream",
     "text": [
      "[-1.96245968 -0.24206884  0.06666908 -0.1574956 ] 450.08261282120105\n"
     ]
    }
   ],
   "source": [
    "print(lr.coef_, lr.intercept_)"
   ]
  },
  {
   "cell_type": "markdown",
   "metadata": {},
   "source": [
    "## PREDICTIONS"
   ]
  },
  {
   "cell_type": "code",
   "execution_count": 56,
   "metadata": {},
   "outputs": [
    {
     "name": "stdout",
     "output_type": "stream",
     "text": [
      "[361.15004779]\n"
     ]
    }
   ],
   "source": [
    "PRED = lr.predict([[34, 56, 2.5, 56]]) # Single Value\n",
    "print(PRED)"
   ]
  },
  {
   "cell_type": "code",
   "execution_count": 57,
   "metadata": {},
   "outputs": [
    {
     "name": "stdout",
     "output_type": "stream",
     "text": [
      "[431.39746929 458.61306823 462.8132933  ... 430.24576539 464.47083536\n",
      " 444.08498274]\n"
     ]
    }
   ],
   "source": [
    "y_testpredict = lr.predict(x_test)\n",
    "print(y_testpredict)"
   ]
  },
  {
   "cell_type": "code",
   "execution_count": 58,
   "metadata": {},
   "outputs": [
    {
     "name": "stdout",
     "output_type": "stream",
     "text": [
      "[431.23 460.01 461.14 ... 435.86 455.63 439.03]\n"
     ]
    }
   ],
   "source": [
    "print(y_test)"
   ]
  },
  {
   "cell_type": "markdown",
   "metadata": {},
   "source": [
    "## MODEL EVALUATION\n",
    " We evaluate the model using rSquared method "
   ]
  },
  {
   "cell_type": "code",
   "execution_count": 59,
   "metadata": {},
   "outputs": [
    {
     "data": {
      "text/plain": [
       "0.9310173107097915"
      ]
     },
     "execution_count": 59,
     "metadata": {},
     "output_type": "execute_result"
    }
   ],
   "source": [
    "from sklearn.metrics import r2_score\n",
    "r2_score(y_test, y_testpredict)"
   ]
  },
  {
   "cell_type": "markdown",
   "metadata": {},
   "source": [
    "## PLOT THE RESULTS "
   ]
  },
  {
   "cell_type": "code",
   "execution_count": 60,
   "metadata": {},
   "outputs": [
    {
     "data": {
      "text/plain": [
       "<Figure size 1080x720 with 0 Axes>"
      ]
     },
     "execution_count": 60,
     "metadata": {},
     "output_type": "execute_result"
    },
    {
     "data": {
      "image/png": "[encoded data removed]",
      "text/plain": [
       "<Figure size 432x288 with 1 Axes>"
      ]
     },
     "metadata": {
      "needs_background": "light"
     },
     "output_type": "display_data"
    },
    {
     "data": {
      "text/plain": [
       "<Figure size 1080x720 with 0 Axes>"
      ]
     },
     "metadata": {},
     "output_type": "display_data"
    }
   ],
   "source": [
    "import matplotlib.pyplot as plt\n",
    "plt.scatter(y_testpredict, y_test)\n",
    "plt.xlabel('Predicted Value')\n",
    "plt.ylabel('Actual Value')\n",
    "plt.title('Actual vs Predicted')\n",
    "plt.figure(figsize =(15,10))"
   ]
  },
  {
   "cell_type": "code",
   "execution_count": 61,
   "metadata": {},
   "outputs": [
    {
     "name": "stdout",
     "output_type": "stream",
     "text": [
      "    Actual_data  Predicted_Data  Difference\n",
      "0        431.23      431.397469   -0.167469\n",
      "1        460.01      458.613068    1.396932\n",
      "2        461.14      462.813293   -1.673293\n",
      "3        445.90      448.618875   -2.718875\n",
      "4        451.29      457.886495   -6.596495\n",
      "5        432.68      429.695875    2.984125\n",
      "6        477.50      473.039180    4.460820\n",
      "7        459.68      456.548523    3.131477\n",
      "8        477.50      474.360287    3.139713\n",
      "9        444.99      446.406480   -1.416480\n",
      "10       444.37      441.953847    2.416153\n",
      "11       437.04      441.465759   -4.425759\n",
      "12       442.34      444.772785   -2.432785\n",
      "13       440.74      440.865735   -0.125735\n",
      "14       436.55      438.357535   -1.807535\n",
      "15       460.24      454.400294    5.839706\n",
      "16       448.66      444.922794    3.737206\n",
      "17       432.94      437.404623   -4.464623\n",
      "18       452.82      451.296493    1.523507\n",
      "19       432.20      427.471046    4.728954\n"
     ]
    }
   ],
   "source": [
    "NEW_DATASET = pd.DataFrame({\"Actual_data\": y_test, \"Predicted_Data\": y_testpredict, \"Difference\": y_test-y_testpredict})\n",
    "print(NEW_DATASET[0:20])"
   ]
  },
  {
   "cell_type": "code",
   "execution_count": 62,
   "metadata": {},
   "outputs": [],
   "source": [
    "import pandas as pd\n",
    "import numpy as np\n",
    "import matplotlib.pyplot as plt\n",
    "import seaborn as sns\n",
    "color = sns.color_palette()\n",
    "import sklearn.metrics as metrics\n",
    "from sklearn import linear_model as lm\n",
    "import warnings\n",
    "warnings.filterwarnings('ignore')\n",
    "#model = lm.LinearRegression()"
   ]
  },
  {
   "cell_type": "code",
   "execution_count": 63,
   "metadata": {},
   "outputs": [
    {
     "data": {
      "image/png": "[encoded data removed]",
      "text/plain": [
       "<Figure size 1080x360 with 6 Axes>"
      ]
     },
     "metadata": {
      "needs_background": "light"
     },
     "output_type": "display_data"
    }
   ],
   "source": [
    "x = np.linspace(-3,3,1000) # 1000 sample number between -3 to 3\n",
    "# Plot subplots\n",
    "fig, ((ax1, ax2, ax3), (ax4, ax5, ax6)) = plt.subplots(nrows=2, ncols=3, figsize = (15,5))\n",
    "ax1.plot(x, x)\n",
    "ax1.set_title('linear')\n",
    "ax2.plot(x, x**2)\n",
    "ax2.set_title('degree 2')\n",
    "ax3.plot(x, x**3)\n",
    "ax3.set_title('degree 3')\n",
    "ax4.plot(x, x**4)\n",
    "ax4.set_title('degree 4')\n",
    "ax5.plot(x, x**5)\n",
    "ax5.set_title('degree 5')\n",
    "ax6.plot(x, x**6)\n",
    "ax6.set_title('degree 6')\n",
    "plt.tight_layout()# tidy layout\n",
    "plt.show()\n"
   ]
  },
  {
   "cell_type": "code",
   "execution_count": 64,
   "metadata": {},
   "outputs": [
    {
     "ename": "FileNotFoundError",
     "evalue": "[Errno 2] No such file or directory: 'Grade_Set_1.csv'",
     "output_type": "error",
     "traceback": [
      "\u001b[1;31m---------------------------------------------------------------------------\u001b[0m",
      "\u001b[1;31mFileNotFoundError\u001b[0m                         Traceback (most recent call last)",
      "\u001b[1;32m<ipython-input-64-63717b24143e>\u001b[0m in \u001b[0;36m<module>\u001b[1;34m\u001b[0m\n\u001b[1;32m----> 1\u001b[1;33m \u001b[0mdf\u001b[0m \u001b[1;33m=\u001b[0m \u001b[0mpd\u001b[0m\u001b[1;33m.\u001b[0m\u001b[0mread_csv\u001b[0m\u001b[1;33m(\u001b[0m\u001b[1;34m'Grade_Set_1.csv'\u001b[0m\u001b[1;33m)\u001b[0m\u001b[1;33m\u001b[0m\u001b[1;33m\u001b[0m\u001b[0m\n\u001b[0m\u001b[0;32m      2\u001b[0m \u001b[0mprint\u001b[0m\u001b[1;33m(\u001b[0m\u001b[0mdf\u001b[0m\u001b[1;33m)\u001b[0m\u001b[1;33m\u001b[0m\u001b[1;33m\u001b[0m\u001b[0m\n",
      "\u001b[1;32m~\\anaconda3\\lib\\site-packages\\pandas\\io\\parsers.py\u001b[0m in \u001b[0;36mread_csv\u001b[1;34m(filepath_or_buffer, sep, delimiter, header, names, index_col, usecols, squeeze, prefix, mangle_dupe_cols, dtype, engine, converters, true_values, false_values, skipinitialspace, skiprows, skipfooter, nrows, na_values, keep_default_na, na_filter, verbose, skip_blank_lines, parse_dates, infer_datetime_format, keep_date_col, date_parser, dayfirst, cache_dates, iterator, chunksize, compression, thousands, decimal, lineterminator, quotechar, quoting, doublequote, escapechar, comment, encoding, dialect, error_bad_lines, warn_bad_lines, delim_whitespace, low_memory, memory_map, float_precision, storage_options)\u001b[0m\n\u001b[0;32m    608\u001b[0m     \u001b[0mkwds\u001b[0m\u001b[1;33m.\u001b[0m\u001b[0mupdate\u001b[0m\u001b[1;33m(\u001b[0m\u001b[0mkwds_defaults\u001b[0m\u001b[1;33m)\u001b[0m\u001b[1;33m\u001b[0m\u001b[1;33m\u001b[0m\u001b[0m\n\u001b[0;32m    609\u001b[0m \u001b[1;33m\u001b[0m\u001b[0m\n\u001b[1;32m--> 610\u001b[1;33m     \u001b[1;32mreturn\u001b[0m \u001b[0m_read\u001b[0m\u001b[1;33m(\u001b[0m\u001b[0mfilepath_or_buffer\u001b[0m\u001b[1;33m,\u001b[0m \u001b[0mkwds\u001b[0m\u001b[1;33m)\u001b[0m\u001b[1;33m\u001b[0m\u001b[1;33m\u001b[0m\u001b[0m\n\u001b[0m\u001b[0;32m    611\u001b[0m \u001b[1;33m\u001b[0m\u001b[0m\n\u001b[0;32m    612\u001b[0m \u001b[1;33m\u001b[0m\u001b[0m\n",
      "\u001b[1;32m~\\anaconda3\\lib\\site-packages\\pandas\\io\\parsers.py\u001b[0m in \u001b[0;36m_read\u001b[1;34m(filepath_or_buffer, kwds)\u001b[0m\n\u001b[0;32m    460\u001b[0m \u001b[1;33m\u001b[0m\u001b[0m\n\u001b[0;32m    461\u001b[0m     \u001b[1;31m# Create the parser.\u001b[0m\u001b[1;33m\u001b[0m\u001b[1;33m\u001b[0m\u001b[1;33m\u001b[0m\u001b[0m\n\u001b[1;32m--> 462\u001b[1;33m     \u001b[0mparser\u001b[0m \u001b[1;33m=\u001b[0m \u001b[0mTextFileReader\u001b[0m\u001b[1;33m(\u001b[0m\u001b[0mfilepath_or_buffer\u001b[0m\u001b[1;33m,\u001b[0m \u001b[1;33m**\u001b[0m\u001b[0mkwds\u001b[0m\u001b[1;33m)\u001b[0m\u001b[1;33m\u001b[0m\u001b[1;33m\u001b[0m\u001b[0m\n\u001b[0m\u001b[0;32m    463\u001b[0m \u001b[1;33m\u001b[0m\u001b[0m\n\u001b[0;32m    464\u001b[0m     \u001b[1;32mif\u001b[0m \u001b[0mchunksize\u001b[0m \u001b[1;32mor\u001b[0m \u001b[0miterator\u001b[0m\u001b[1;33m:\u001b[0m\u001b[1;33m\u001b[0m\u001b[1;33m\u001b[0m\u001b[0m\n",
      "\u001b[1;32m~\\anaconda3\\lib\\site-packages\\pandas\\io\\parsers.py\u001b[0m in \u001b[0;36m__init__\u001b[1;34m(self, f, engine, **kwds)\u001b[0m\n\u001b[0;32m    817\u001b[0m             \u001b[0mself\u001b[0m\u001b[1;33m.\u001b[0m\u001b[0moptions\u001b[0m\u001b[1;33m[\u001b[0m\u001b[1;34m\"has_index_names\"\u001b[0m\u001b[1;33m]\u001b[0m \u001b[1;33m=\u001b[0m \u001b[0mkwds\u001b[0m\u001b[1;33m[\u001b[0m\u001b[1;34m\"has_index_names\"\u001b[0m\u001b[1;33m]\u001b[0m\u001b[1;33m\u001b[0m\u001b[1;33m\u001b[0m\u001b[0m\n\u001b[0;32m    818\u001b[0m \u001b[1;33m\u001b[0m\u001b[0m\n\u001b[1;32m--> 819\u001b[1;33m         \u001b[0mself\u001b[0m\u001b[1;33m.\u001b[0m\u001b[0m_engine\u001b[0m \u001b[1;33m=\u001b[0m \u001b[0mself\u001b[0m\u001b[1;33m.\u001b[0m\u001b[0m_make_engine\u001b[0m\u001b[1;33m(\u001b[0m\u001b[0mself\u001b[0m\u001b[1;33m.\u001b[0m\u001b[0mengine\u001b[0m\u001b[1;33m)\u001b[0m\u001b[1;33m\u001b[0m\u001b[1;33m\u001b[0m\u001b[0m\n\u001b[0m\u001b[0;32m    820\u001b[0m \u001b[1;33m\u001b[0m\u001b[0m\n\u001b[0;32m    821\u001b[0m     \u001b[1;32mdef\u001b[0m \u001b[0mclose\u001b[0m\u001b[1;33m(\u001b[0m\u001b[0mself\u001b[0m\u001b[1;33m)\u001b[0m\u001b[1;33m:\u001b[0m\u001b[1;33m\u001b[0m\u001b[1;33m\u001b[0m\u001b[0m\n",
      "\u001b[1;32m~\\anaconda3\\lib\\site-packages\\pandas\\io\\parsers.py\u001b[0m in \u001b[0;36m_make_engine\u001b[1;34m(self, engine)\u001b[0m\n\u001b[0;32m   1048\u001b[0m             )\n\u001b[0;32m   1049\u001b[0m         \u001b[1;31m# error: Too many arguments for \"ParserBase\"\u001b[0m\u001b[1;33m\u001b[0m\u001b[1;33m\u001b[0m\u001b[1;33m\u001b[0m\u001b[0m\n\u001b[1;32m-> 1050\u001b[1;33m         \u001b[1;32mreturn\u001b[0m \u001b[0mmapping\u001b[0m\u001b[1;33m[\u001b[0m\u001b[0mengine\u001b[0m\u001b[1;33m]\u001b[0m\u001b[1;33m(\u001b[0m\u001b[0mself\u001b[0m\u001b[1;33m.\u001b[0m\u001b[0mf\u001b[0m\u001b[1;33m,\u001b[0m \u001b[1;33m**\u001b[0m\u001b[0mself\u001b[0m\u001b[1;33m.\u001b[0m\u001b[0moptions\u001b[0m\u001b[1;33m)\u001b[0m  \u001b[1;31m# type: ignore[call-arg]\u001b[0m\u001b[1;33m\u001b[0m\u001b[1;33m\u001b[0m\u001b[0m\n\u001b[0m\u001b[0;32m   1051\u001b[0m \u001b[1;33m\u001b[0m\u001b[0m\n\u001b[0;32m   1052\u001b[0m     \u001b[1;32mdef\u001b[0m \u001b[0m_failover_to_python\u001b[0m\u001b[1;33m(\u001b[0m\u001b[0mself\u001b[0m\u001b[1;33m)\u001b[0m\u001b[1;33m:\u001b[0m\u001b[1;33m\u001b[0m\u001b[1;33m\u001b[0m\u001b[0m\n",
      "\u001b[1;32m~\\anaconda3\\lib\\site-packages\\pandas\\io\\parsers.py\u001b[0m in \u001b[0;36m__init__\u001b[1;34m(self, src, **kwds)\u001b[0m\n\u001b[0;32m   1865\u001b[0m \u001b[1;33m\u001b[0m\u001b[0m\n\u001b[0;32m   1866\u001b[0m         \u001b[1;31m# open handles\u001b[0m\u001b[1;33m\u001b[0m\u001b[1;33m\u001b[0m\u001b[1;33m\u001b[0m\u001b[0m\n\u001b[1;32m-> 1867\u001b[1;33m         \u001b[0mself\u001b[0m\u001b[1;33m.\u001b[0m\u001b[0m_open_handles\u001b[0m\u001b[1;33m(\u001b[0m\u001b[0msrc\u001b[0m\u001b[1;33m,\u001b[0m \u001b[0mkwds\u001b[0m\u001b[1;33m)\u001b[0m\u001b[1;33m\u001b[0m\u001b[1;33m\u001b[0m\u001b[0m\n\u001b[0m\u001b[0;32m   1868\u001b[0m         \u001b[1;32massert\u001b[0m \u001b[0mself\u001b[0m\u001b[1;33m.\u001b[0m\u001b[0mhandles\u001b[0m \u001b[1;32mis\u001b[0m \u001b[1;32mnot\u001b[0m \u001b[1;32mNone\u001b[0m\u001b[1;33m\u001b[0m\u001b[1;33m\u001b[0m\u001b[0m\n\u001b[0;32m   1869\u001b[0m         \u001b[1;32mfor\u001b[0m \u001b[0mkey\u001b[0m \u001b[1;32min\u001b[0m \u001b[1;33m(\u001b[0m\u001b[1;34m\"storage_options\"\u001b[0m\u001b[1;33m,\u001b[0m \u001b[1;34m\"encoding\"\u001b[0m\u001b[1;33m,\u001b[0m \u001b[1;34m\"memory_map\"\u001b[0m\u001b[1;33m,\u001b[0m \u001b[1;34m\"compression\"\u001b[0m\u001b[1;33m)\u001b[0m\u001b[1;33m:\u001b[0m\u001b[1;33m\u001b[0m\u001b[1;33m\u001b[0m\u001b[0m\n",
      "\u001b[1;32m~\\anaconda3\\lib\\site-packages\\pandas\\io\\parsers.py\u001b[0m in \u001b[0;36m_open_handles\u001b[1;34m(self, src, kwds)\u001b[0m\n\u001b[0;32m   1360\u001b[0m         \u001b[0mLet\u001b[0m \u001b[0mthe\u001b[0m \u001b[0mreaders\u001b[0m \u001b[0mopen\u001b[0m \u001b[0mIOHanldes\u001b[0m \u001b[0mafter\u001b[0m \u001b[0mthey\u001b[0m \u001b[0mare\u001b[0m \u001b[0mdone\u001b[0m \u001b[1;32mwith\u001b[0m \u001b[0mtheir\u001b[0m \u001b[0mpotential\u001b[0m \u001b[0mraises\u001b[0m\u001b[1;33m.\u001b[0m\u001b[1;33m\u001b[0m\u001b[1;33m\u001b[0m\u001b[0m\n\u001b[0;32m   1361\u001b[0m         \"\"\"\n\u001b[1;32m-> 1362\u001b[1;33m         self.handles = get_handle(\n\u001b[0m\u001b[0;32m   1363\u001b[0m             \u001b[0msrc\u001b[0m\u001b[1;33m,\u001b[0m\u001b[1;33m\u001b[0m\u001b[1;33m\u001b[0m\u001b[0m\n\u001b[0;32m   1364\u001b[0m             \u001b[1;34m\"r\"\u001b[0m\u001b[1;33m,\u001b[0m\u001b[1;33m\u001b[0m\u001b[1;33m\u001b[0m\u001b[0m\n",
      "\u001b[1;32m~\\anaconda3\\lib\\site-packages\\pandas\\io\\common.py\u001b[0m in \u001b[0;36mget_handle\u001b[1;34m(path_or_buf, mode, encoding, compression, memory_map, is_text, errors, storage_options)\u001b[0m\n\u001b[0;32m    640\u001b[0m                 \u001b[0merrors\u001b[0m \u001b[1;33m=\u001b[0m \u001b[1;34m\"replace\"\u001b[0m\u001b[1;33m\u001b[0m\u001b[1;33m\u001b[0m\u001b[0m\n\u001b[0;32m    641\u001b[0m             \u001b[1;31m# Encoding\u001b[0m\u001b[1;33m\u001b[0m\u001b[1;33m\u001b[0m\u001b[1;33m\u001b[0m\u001b[0m\n\u001b[1;32m--> 642\u001b[1;33m             handle = open(\n\u001b[0m\u001b[0;32m    643\u001b[0m                 \u001b[0mhandle\u001b[0m\u001b[1;33m,\u001b[0m\u001b[1;33m\u001b[0m\u001b[1;33m\u001b[0m\u001b[0m\n\u001b[0;32m    644\u001b[0m                 \u001b[0mioargs\u001b[0m\u001b[1;33m.\u001b[0m\u001b[0mmode\u001b[0m\u001b[1;33m,\u001b[0m\u001b[1;33m\u001b[0m\u001b[1;33m\u001b[0m\u001b[0m\n",
      "\u001b[1;31mFileNotFoundError\u001b[0m: [Errno 2] No such file or directory: 'Grade_Set_1.csv'"
     ]
    }
   ],
   "source": [
    "df = pd.read_csv('Grade_Set_1.csv')\n",
    "print(df)"
   ]
  },
  {
   "cell_type": "code",
   "execution_count": null,
   "metadata": {},
   "outputs": [],
   "source": [
    "df.plot(kind = 'scatter', x = 'Hours_Studied', y = 'Test_Grade', title = 'Grade vs Hours Studied', color = 'g')"
   ]
  },
  {
   "cell_type": "code",
   "execution_count": null,
   "metadata": {},
   "outputs": [],
   "source": [
    "print('Correlation Matrix is',)\n",
    "df.corr()"
   ]
  },
  {
   "cell_type": "code",
   "execution_count": null,
   "metadata": {},
   "outputs": [],
   "source": [
    "sns.heatmap(df.corr())"
   ]
  },
  {
   "cell_type": "code",
   "execution_count": null,
   "metadata": {},
   "outputs": [],
   "source": [
    "lr = lm.LinearRegression()\n",
    "x= df.Hours_Studied[:, np.newaxis]\n",
    "y = df['Test_Grade'].values\n",
    "lr.fit(x,y)\n",
    "print('coefficient:', lr.coef_)\n",
    "print('intercept:', lr.intercept_)\n",
    "y_predict = lr.predict(x)\n",
    "df['y_predict'] = lr.predict(x)"
   ]
  },
  {
   "cell_type": "code",
   "execution_count": null,
   "metadata": {},
   "outputs": [],
   "source": [
    "print(df)"
   ]
  },
  {
   "cell_type": "code",
   "execution_count": null,
   "metadata": {},
   "outputs": [],
   "source": [
    "import statsmodels.api as sm\n",
    "x = df['Hours_Studied']\n",
    "x = sm.add_constant(x)\n",
    "y = df['Test_Grade'].values\n",
    "lr.fit(x,y)\n",
    "print('coefficient:', lr.coef_)\n",
    "print('intercept:', lr.intercept_)"
   ]
  },
  {
   "cell_type": "code",
   "execution_count": null,
   "metadata": {},
   "outputs": [],
   "source": [
    "from sklearn.metrics import r2_score\n",
    "print('Rsquared is', r2_score(y, y_predict))"
   ]
  },
  {
   "cell_type": "code",
   "execution_count": null,
   "metadata": {},
   "outputs": [],
   "source": [
    "x = df.Hours_Studied[:, np.newaxis]\n",
    "plt.scatter(x,y)\n",
    "plt.plot(x,y)\n",
    "plt.plot(x, y_predict, linewidth= 1.5, color = 'hotpink')"
   ]
  },
  {
   "cell_type": "code",
   "execution_count": null,
   "metadata": {},
   "outputs": [],
   "source": [
    "x= df.Hours_Studied # independent variable\n",
    "y= df.Test_Grade # dependent variable\n",
    "#NumPy's vander function will return powers of the input vector\n",
    "for deg in [1, 2, 3, 4, 5]:\n",
    " lr.fit(np.vander(x, deg + 1), y);\n",
    " y_lr = lr.predict(np.vander(x, deg + 1));\n",
    " plt.plot(x, y_lr, label='degree ' + str(deg));\n",
    " plt.legend(loc=2);\n",
    " print( r2_score(y, y_lr))\n",
    "plt.plot(x, y, 'ok')"
   ]
  },
  {
   "cell_type": "code",
   "execution_count": null,
   "metadata": {},
   "outputs": [],
   "source": [
    "print(y_lr)"
   ]
  },
  {
   "cell_type": "code",
   "execution_count": null,
   "metadata": {},
   "outputs": [],
   "source": [
    "from sklearn.preprocessing import PolynomialFeatures\n",
    "from sklearn.pipeline import make_pipeline\n",
    "x= df.Hours_Studied[:, np.newaxis] # independent variable\n",
    "y= df.Test_Grade # dependent variable\n",
    "degree = 4\n",
    "model = make_pipeline(PolynomialFeatures(degree), lr)\n",
    "model.fit(x, y)\n",
    "plt.scatter(x, y, color='black')\n",
    "plt.plot(x, model.predict(x), color='green')\n",
    "print (\"R Squared using built-in function: \", r2_score(y, model.predict(x)))"
   ]
  },
  {
   "cell_type": "markdown",
   "metadata": {},
   "source": [
    "## Assumption of Polynomial Regression\n",
    "We cannot process all of the datasets and use polynomial regression machine learning to make a better judgment.\n",
    "We can still do it, but there should be specific constraints for the dataset in order to get the best polynomial \n",
    "regression results.\n",
    "A dependent variable’s behaviour can be described by a linear, or curved, an additive link between the dependent variable\n",
    "and a set of k independent factors.\n",
    "The independent variables have no relationship with one another.\n",
    "We’re utilizing datasets with independent errors that are normally distributed with a mean of zero and a constant variance."
   ]
  },
  {
   "cell_type": "code",
   "execution_count": null,
   "metadata": {},
   "outputs": [],
   "source": [
    "plt.figure(figsize = (15,8))\n",
    "x= df.Hours_Studied #independent variable\n",
    "y= df.Test_Grade # dependent variable\n",
    "for deg in [1,2,3,4,5,6,7,8]:\n",
    "    lr.fit(np.vander(x, deg +1),y);\n",
    "    y_pred = lr.predict(np.vander(x, deg + 1));\n",
    "    plt.plot(x, y_pred, label = 'degree' + str(deg));\n",
    "    plt.legend()\n",
    "    #print(y_pred)\n",
    "    print(r2_score(y,y_pred))    \n",
    "plt.plot(x,y, 'ok')\n",
    "plt.show()"
   ]
  },
  {
   "cell_type": "code",
   "execution_count": null,
   "metadata": {},
   "outputs": [],
   "source": [
    "from sklearn.preprocessing import PolynomialFeatures\n",
    "from sklearn.pipeline import make_pipeline\n",
    "x = df.Hours_Studied[:,np.newaxis]\n",
    "y = df.Test_Grade\n",
    "degree = 4\n",
    "model = make_pipeline(PolynomialFeatures(4),lr)\n",
    "model.fit(x,y)\n",
    "y_pred = model.predict(x)\n",
    "print(y_pred)\n",
    "plt.plot(x,y, 'ok')\n",
    "plt.plot(x, y_pred, 'r')\n",
    "print('R Squared is', r2_score(y,y_pred))"
   ]
  },
  {
   "cell_type": "code",
   "execution_count": null,
   "metadata": {},
   "outputs": [],
   "source": [
    "x = df['Hours_Studied'][:,np.newaxis]\n",
    "y = df['Test_Grade']\n",
    "from sklearn.preprocessing import PolynomialFeatures\n",
    "polynomial_features1 = PolynomialFeatures(degree=2)\n",
    "x_poly1 = polynomial_features1.fit_transform(x)\n",
    "from sklearn import linear_model as lm\n",
    "model1 = lm.LinearRegression()\n",
    "model1.fit(x_poly1, y)\n",
    "y_poly_pred1 = model1.predict(x_poly1)\n",
    "print(y_poly_pred1)\n",
    "plt.plot(x,y, '*k')\n",
    "plt.plot(x, y_poly_pred1, 'hotpink')\n",
    "plt.show()"
   ]
  },
  {
   "cell_type": "code",
   "execution_count": null,
   "metadata": {},
   "outputs": [],
   "source": [
    "from sklearn.preprocessing import PolynomialFeatures\n",
    "x = df.Hours_Studied[:,np.newaxis]\n",
    "y = df.Test_Grade.values\n",
    "Polynomial_Features_1 = PolynomialFeatures(degree=2)\n",
    "x_poly_1 = Polynomial_Features_1.fit_transform(x)\n",
    "model = lm.LinearRegression()\n",
    "model.fit(x_poly_1, y)\n",
    "y_poly_pred_1 = model.predict(x_poly_1)\n",
    "print(model.coef_, model.intercept_)\n",
    "print('Rsquared_poly1:', r2_score(y_poly_pred_1, y) )\n",
    "plt.plot(x,y, 'ok')\n",
    "plt.plot(x, y_poly_pred_1, 'c')\n",
    "plt.show()"
   ]
  },
  {
   "cell_type": "code",
   "execution_count": null,
   "metadata": {},
   "outputs": [],
   "source": [
    "plt.figure(figsize= (15,8))\n",
    "x = df.Hours_Studied[:,np.newaxis]\n",
    "y = df.Test_Grade.values\n",
    "Polynomial_Features_2 = PolynomialFeatures(degree = 3)\n",
    "x_poly_3 = Polynomial_Features_2.fit_transform(x)\n",
    "model = lm.LinearRegression()\n",
    "model.fit(x_poly_3,y)\n",
    "y_poly_pred_3 = model.predict(x_poly_3)\n",
    "print('RSquared is', r2_score(y_poly_pred_3, y))\n",
    "plt.plot(x,y,'*r')\n",
    "plt.plot(x, y_poly_pred_3, 'k')\n",
    "plt.show()"
   ]
  },
  {
   "cell_type": "code",
   "execution_count": null,
   "metadata": {},
   "outputs": [],
   "source": [
    "plt.figure(figsize= (15,8))\n",
    "x = df.Hours_Studied[:,np.newaxis]\n",
    "y = df.Test_Grade.values\n",
    "Polynomial_Features_4 = PolynomialFeatures(degree = 4)\n",
    "x_poly_4 = Polynomial_Features_4.fit_transform(x)\n",
    "model = lm.LinearRegression()\n",
    "model.fit(x_poly_4,y)\n",
    "y_polypred_4 = model.predict(x_poly_4)\n",
    "print('Rsquared is', r2_score(y_polypred_4, y))\n",
    "plt.plot(x,y, 'oy')\n",
    "plt.plot(x, y_polypred_4, 'hotpink')\n",
    "plt.show()"
   ]
  },
  {
   "cell_type": "code",
   "execution_count": null,
   "metadata": {},
   "outputs": [],
   "source": [
    "plt.figure(figsize=(15,8))\n",
    "Polynomial_Features_5 = PolynomialFeatures(degree = 10)\n",
    "x_poly_5 = Polynomial_Features_5.fit_transform(x)\n",
    "model = lm.LinearRegression()\n",
    "model.fit(x_poly_5,y)\n",
    "y_polypred_5 = model.predict(x_poly_5)\n",
    "print('RSquared is', r2_score(y_polypred_5, y))\n",
    "plt.plot(x, y, '*g')\n",
    "plt.plot(x, y_polypred_5, 'purple')"
   ]
  },
  {
   "cell_type": "markdown",
   "metadata": {},
   "source": [
    "# MULTIPLE LINEAR REGRESSION"
   ]
  },
  {
   "cell_type": "code",
   "execution_count": null,
   "metadata": {},
   "outputs": [],
   "source": [
    "from sklearn import preprocessing\n",
    "lb = preprocessing.LabelBinarizer()\n",
    "x = ['yes','no','no', 'yes','no', 'yes']\n",
    "lb.fit_transform(x)"
   ]
  },
  {
   "cell_type": "code",
   "execution_count": null,
   "metadata": {},
   "outputs": [],
   "source": [
    "from sklearn import preprocessing\n",
    "lb = preprocessing.LabelBinarizer()\n",
    "lb.fit_transform(['yes', 'no', 'no', 'yes'])"
   ]
  },
  {
   "cell_type": "code",
   "execution_count": null,
   "metadata": {},
   "outputs": [],
   "source": [
    "from numpy import array\n",
    "from sklearn.preprocessing import LabelEncoder\n",
    "from sklearn.preprocessing import OneHotEncoder\n",
    "from sklearn.preprocessing import LabelBinarizer\n",
    "data = ['cold', 'cold', 'warm', 'cold', 'hot', 'hot', 'warm', 'cold', \n",
    "'warm', 'hot']\n",
    "#values = array(data)\n",
    "#print (\"Data: \", values)"
   ]
  },
  {
   "cell_type": "code",
   "execution_count": null,
   "metadata": {},
   "outputs": [],
   "source": [
    "label_encoder = LabelEncoder()\n",
    "integer_encoded = label_encoder.fit_transform(data)\n",
    "print (\"Label Encoder:\" ,integer_encoded)"
   ]
  },
  {
   "cell_type": "code",
   "execution_count": null,
   "metadata": {},
   "outputs": [],
   "source": [
    "onehot_encoder = OneHotEncoder(sparse=False)\n",
    "integer_encoded = integer_encoded.reshape(len(integer_encoded), 1)\n",
    "onehot_encoded = onehot_encoder.fit_transform(integer_encoded)\n",
    "print (\"OneHot Encoder:\", onehot_encoded)\n"
   ]
  },
  {
   "cell_type": "code",
   "execution_count": null,
   "metadata": {},
   "outputs": [],
   "source": [
    "lb = LabelBinarizer()\n",
    "lb.fit_transform(data)"
   ]
  },
  {
   "cell_type": "code",
   "execution_count": null,
   "metadata": {},
   "outputs": [],
   "source": [
    "import pandas as pd\n",
    "\n",
    "#create DataFrame\n",
    "df = pd.DataFrame({'Team': ['A', 'A', 'B', 'B', 'B', 'B', 'C', 'C'],\n",
    "                   'Points': [25, 12, 15, 14, 19, 23, 25, 29]})\n",
    "\n",
    "#view DataFrame\n",
    "print(df)"
   ]
  },
  {
   "cell_type": "code",
   "execution_count": 65,
   "metadata": {},
   "outputs": [
    {
     "ename": "KeyError",
     "evalue": "\"None of [Index(['Team'], dtype='object')] are in the [columns]\"",
     "output_type": "error",
     "traceback": [
      "\u001b[1;31m---------------------------------------------------------------------------\u001b[0m",
      "\u001b[1;31mKeyError\u001b[0m                                  Traceback (most recent call last)",
      "\u001b[1;32m<ipython-input-65-45acb01ccee2>\u001b[0m in \u001b[0;36m<module>\u001b[1;34m\u001b[0m\n\u001b[0;32m      5\u001b[0m \u001b[1;33m\u001b[0m\u001b[0m\n\u001b[0;32m      6\u001b[0m \u001b[1;31m#perform one-hot encoding on 'team' column\u001b[0m\u001b[1;33m\u001b[0m\u001b[1;33m\u001b[0m\u001b[1;33m\u001b[0m\u001b[0m\n\u001b[1;32m----> 7\u001b[1;33m \u001b[0mencoder_df\u001b[0m \u001b[1;33m=\u001b[0m \u001b[0mpd\u001b[0m\u001b[1;33m.\u001b[0m\u001b[0mDataFrame\u001b[0m\u001b[1;33m(\u001b[0m\u001b[0mencoder\u001b[0m\u001b[1;33m.\u001b[0m\u001b[0mfit_transform\u001b[0m\u001b[1;33m(\u001b[0m\u001b[0mdf\u001b[0m\u001b[1;33m[\u001b[0m\u001b[1;33m[\u001b[0m\u001b[1;34m'Team'\u001b[0m\u001b[1;33m]\u001b[0m\u001b[1;33m]\u001b[0m\u001b[1;33m)\u001b[0m\u001b[1;33m.\u001b[0m\u001b[0mtoarray\u001b[0m\u001b[1;33m(\u001b[0m\u001b[1;33m)\u001b[0m\u001b[1;33m)\u001b[0m\u001b[1;33m\u001b[0m\u001b[1;33m\u001b[0m\u001b[0m\n\u001b[0m\u001b[0;32m      8\u001b[0m \u001b[1;33m\u001b[0m\u001b[0m\n\u001b[0;32m      9\u001b[0m \u001b[1;31m#merge one-hot encoded columns back with original DataFrame\u001b[0m\u001b[1;33m\u001b[0m\u001b[1;33m\u001b[0m\u001b[1;33m\u001b[0m\u001b[0m\n",
      "\u001b[1;32m~\\anaconda3\\lib\\site-packages\\pandas\\core\\frame.py\u001b[0m in \u001b[0;36m__getitem__\u001b[1;34m(self, key)\u001b[0m\n\u001b[0;32m   3028\u001b[0m             \u001b[1;32mif\u001b[0m \u001b[0mis_iterator\u001b[0m\u001b[1;33m(\u001b[0m\u001b[0mkey\u001b[0m\u001b[1;33m)\u001b[0m\u001b[1;33m:\u001b[0m\u001b[1;33m\u001b[0m\u001b[1;33m\u001b[0m\u001b[0m\n\u001b[0;32m   3029\u001b[0m                 \u001b[0mkey\u001b[0m \u001b[1;33m=\u001b[0m \u001b[0mlist\u001b[0m\u001b[1;33m(\u001b[0m\u001b[0mkey\u001b[0m\u001b[1;33m)\u001b[0m\u001b[1;33m\u001b[0m\u001b[1;33m\u001b[0m\u001b[0m\n\u001b[1;32m-> 3030\u001b[1;33m             \u001b[0mindexer\u001b[0m \u001b[1;33m=\u001b[0m \u001b[0mself\u001b[0m\u001b[1;33m.\u001b[0m\u001b[0mloc\u001b[0m\u001b[1;33m.\u001b[0m\u001b[0m_get_listlike_indexer\u001b[0m\u001b[1;33m(\u001b[0m\u001b[0mkey\u001b[0m\u001b[1;33m,\u001b[0m \u001b[0maxis\u001b[0m\u001b[1;33m=\u001b[0m\u001b[1;36m1\u001b[0m\u001b[1;33m,\u001b[0m \u001b[0mraise_missing\u001b[0m\u001b[1;33m=\u001b[0m\u001b[1;32mTrue\u001b[0m\u001b[1;33m)\u001b[0m\u001b[1;33m[\u001b[0m\u001b[1;36m1\u001b[0m\u001b[1;33m]\u001b[0m\u001b[1;33m\u001b[0m\u001b[1;33m\u001b[0m\u001b[0m\n\u001b[0m\u001b[0;32m   3031\u001b[0m \u001b[1;33m\u001b[0m\u001b[0m\n\u001b[0;32m   3032\u001b[0m         \u001b[1;31m# take() does not accept boolean indexers\u001b[0m\u001b[1;33m\u001b[0m\u001b[1;33m\u001b[0m\u001b[1;33m\u001b[0m\u001b[0m\n",
      "\u001b[1;32m~\\anaconda3\\lib\\site-packages\\pandas\\core\\indexing.py\u001b[0m in \u001b[0;36m_get_listlike_indexer\u001b[1;34m(self, key, axis, raise_missing)\u001b[0m\n\u001b[0;32m   1264\u001b[0m             \u001b[0mkeyarr\u001b[0m\u001b[1;33m,\u001b[0m \u001b[0mindexer\u001b[0m\u001b[1;33m,\u001b[0m \u001b[0mnew_indexer\u001b[0m \u001b[1;33m=\u001b[0m \u001b[0max\u001b[0m\u001b[1;33m.\u001b[0m\u001b[0m_reindex_non_unique\u001b[0m\u001b[1;33m(\u001b[0m\u001b[0mkeyarr\u001b[0m\u001b[1;33m)\u001b[0m\u001b[1;33m\u001b[0m\u001b[1;33m\u001b[0m\u001b[0m\n\u001b[0;32m   1265\u001b[0m \u001b[1;33m\u001b[0m\u001b[0m\n\u001b[1;32m-> 1266\u001b[1;33m         \u001b[0mself\u001b[0m\u001b[1;33m.\u001b[0m\u001b[0m_validate_read_indexer\u001b[0m\u001b[1;33m(\u001b[0m\u001b[0mkeyarr\u001b[0m\u001b[1;33m,\u001b[0m \u001b[0mindexer\u001b[0m\u001b[1;33m,\u001b[0m \u001b[0maxis\u001b[0m\u001b[1;33m,\u001b[0m \u001b[0mraise_missing\u001b[0m\u001b[1;33m=\u001b[0m\u001b[0mraise_missing\u001b[0m\u001b[1;33m)\u001b[0m\u001b[1;33m\u001b[0m\u001b[1;33m\u001b[0m\u001b[0m\n\u001b[0m\u001b[0;32m   1267\u001b[0m         \u001b[1;32mreturn\u001b[0m \u001b[0mkeyarr\u001b[0m\u001b[1;33m,\u001b[0m \u001b[0mindexer\u001b[0m\u001b[1;33m\u001b[0m\u001b[1;33m\u001b[0m\u001b[0m\n\u001b[0;32m   1268\u001b[0m \u001b[1;33m\u001b[0m\u001b[0m\n",
      "\u001b[1;32m~\\anaconda3\\lib\\site-packages\\pandas\\core\\indexing.py\u001b[0m in \u001b[0;36m_validate_read_indexer\u001b[1;34m(self, key, indexer, axis, raise_missing)\u001b[0m\n\u001b[0;32m   1306\u001b[0m             \u001b[1;32mif\u001b[0m \u001b[0mmissing\u001b[0m \u001b[1;33m==\u001b[0m \u001b[0mlen\u001b[0m\u001b[1;33m(\u001b[0m\u001b[0mindexer\u001b[0m\u001b[1;33m)\u001b[0m\u001b[1;33m:\u001b[0m\u001b[1;33m\u001b[0m\u001b[1;33m\u001b[0m\u001b[0m\n\u001b[0;32m   1307\u001b[0m                 \u001b[0maxis_name\u001b[0m \u001b[1;33m=\u001b[0m \u001b[0mself\u001b[0m\u001b[1;33m.\u001b[0m\u001b[0mobj\u001b[0m\u001b[1;33m.\u001b[0m\u001b[0m_get_axis_name\u001b[0m\u001b[1;33m(\u001b[0m\u001b[0maxis\u001b[0m\u001b[1;33m)\u001b[0m\u001b[1;33m\u001b[0m\u001b[1;33m\u001b[0m\u001b[0m\n\u001b[1;32m-> 1308\u001b[1;33m                 \u001b[1;32mraise\u001b[0m \u001b[0mKeyError\u001b[0m\u001b[1;33m(\u001b[0m\u001b[1;34mf\"None of [{key}] are in the [{axis_name}]\"\u001b[0m\u001b[1;33m)\u001b[0m\u001b[1;33m\u001b[0m\u001b[1;33m\u001b[0m\u001b[0m\n\u001b[0m\u001b[0;32m   1309\u001b[0m \u001b[1;33m\u001b[0m\u001b[0m\n\u001b[0;32m   1310\u001b[0m             \u001b[0max\u001b[0m \u001b[1;33m=\u001b[0m \u001b[0mself\u001b[0m\u001b[1;33m.\u001b[0m\u001b[0mobj\u001b[0m\u001b[1;33m.\u001b[0m\u001b[0m_get_axis\u001b[0m\u001b[1;33m(\u001b[0m\u001b[0maxis\u001b[0m\u001b[1;33m)\u001b[0m\u001b[1;33m\u001b[0m\u001b[1;33m\u001b[0m\u001b[0m\n",
      "\u001b[1;31mKeyError\u001b[0m: \"None of [Index(['Team'], dtype='object')] are in the [columns]\""
     ]
    }
   ],
   "source": [
    "from sklearn.preprocessing import OneHotEncoder\n",
    "\n",
    "#creating instance of one-hot-encoder\n",
    "encoder = OneHotEncoder(handle_unknown='ignore')\n",
    "\n",
    "#perform one-hot encoding on 'team' column \n",
    "encoder_df = pd.DataFrame(encoder.fit_transform(df[['Team']]).toarray())\n",
    "\n",
    "#merge one-hot encoded columns back with original DataFrame\n",
    "final_df = df.join(encoder_df)\n",
    "\n",
    "#view final df\n",
    "print(final_df)"
   ]
  },
  {
   "cell_type": "code",
   "execution_count": 7,
   "metadata": {},
   "outputs": [
    {
     "name": "stdout",
     "output_type": "stream",
     "text": [
      "     price  lotsize  bedrooms  bathrms  stories driveway recroom fullbase  \\\n",
      "0  42000.0     5850         3        1        2      yes      no      yes   \n",
      "1  38500.0     4000         2        1        1      yes      no       no   \n",
      "2  49500.0     3060         3        1        1      yes      no       no   \n",
      "3  60500.0     6650         3        1        2      yes     yes       no   \n",
      "4  61000.0     6360         2        1        1      yes      no       no   \n",
      "\n",
      "  gashw airco  garagepl prefarea  \n",
      "0    no    no         1       no  \n",
      "1    no    no         0       no  \n",
      "2    no    no         0       no  \n",
      "3    no    no         0       no  \n",
      "4    no    no         0       no  \n"
     ]
    }
   ],
   "source": [
    "import pandas as pd\n",
    "df = pd.read_csv(\"Housing_Modified.csv\")\n",
    "print(df.head())"
   ]
  },
  {
   "cell_type": "code",
   "execution_count": 8,
   "metadata": {},
   "outputs": [],
   "source": [
    "from sklearn.preprocessing import LabelBinarizer\n",
    "from sklearn.preprocessing import LabelEncoder\n",
    "from sklearn.preprocessing import OneHotEncoder\n",
    "lb = LabelBinarizer()"
   ]
  },
  {
   "cell_type": "code",
   "execution_count": 9,
   "metadata": {},
   "outputs": [],
   "source": [
    "df.driveway = lb.fit_transform(df.driveway)\n",
    "df.recroom = lb.fit_transform(df.recroom)\n",
    "df.fullbase = lb.fit_transform(df.fullbase)\n",
    "df.gashw = lb.fit_transform(df.gashw)\n",
    "df.airco = lb.fit_transform(df.airco)\n",
    "df.prefarea = lb.fit_transform(df.prefarea)"
   ]
  },
  {
   "cell_type": "code",
   "execution_count": 10,
   "metadata": {},
   "outputs": [
    {
     "name": "stdout",
     "output_type": "stream",
     "text": [
      "     price  lotsize  bedrooms  bathrms  stories  driveway  recroom  fullbase  \\\n",
      "0  42000.0     5850         3        1        2         1        0         1   \n",
      "1  38500.0     4000         2        1        1         1        0         0   \n",
      "2  49500.0     3060         3        1        1         1        0         0   \n",
      "3  60500.0     6650         3        1        2         1        1         0   \n",
      "4  61000.0     6360         2        1        1         1        0         0   \n",
      "\n",
      "   gashw  airco  garagepl  prefarea  \n",
      "0      0      0         1         0  \n",
      "1      0      0         0         0  \n",
      "2      0      0         0         0  \n",
      "3      0      0         0         0  \n",
      "4      0      0         0         0  \n"
     ]
    }
   ],
   "source": [
    "print(df.head())"
   ]
  },
  {
   "cell_type": "code",
   "execution_count": 11,
   "metadata": {},
   "outputs": [],
   "source": [
    "df_stories = pd.get_dummies(df['stories'], prefix='stories') #, drop_first=True)"
   ]
  },
  {
   "cell_type": "code",
   "execution_count": 12,
   "metadata": {},
   "outputs": [
    {
     "name": "stdout",
     "output_type": "stream",
     "text": [
      "        price  lotsize  bedrooms  bathrms  driveway  recroom  fullbase  gashw  \\\n",
      "0     42000.0     5850         3        1         1        0         1      0   \n",
      "1     38500.0     4000         2        1         1        0         0      0   \n",
      "2     49500.0     3060         3        1         1        0         0      0   \n",
      "3     60500.0     6650         3        1         1        1         0      0   \n",
      "4     61000.0     6360         2        1         1        0         0      0   \n",
      "..        ...      ...       ...      ...       ...      ...       ...    ...   \n",
      "541   91500.0     4800         3        2         1        1         0      0   \n",
      "542   94000.0     6000         3        2         1        0         0      0   \n",
      "543  103000.0     6000         3        2         1        1         0      0   \n",
      "544  105000.0     6000         3        2         1        1         0      0   \n",
      "545  105000.0     6000         3        1         1        0         0      0   \n",
      "\n",
      "     airco  garagepl  prefarea  stories_1  stories_2  stories_3  stories_4  \n",
      "0        0         1         0          0          1          0          0  \n",
      "1        0         0         0          1          0          0          0  \n",
      "2        0         0         0          1          0          0          0  \n",
      "3        0         0         0          0          1          0          0  \n",
      "4        0         0         0          1          0          0          0  \n",
      "..     ...       ...       ...        ...        ...        ...        ...  \n",
      "541      1         0         0          0          0          0          1  \n",
      "542      1         0         0          0          0          0          1  \n",
      "543      1         1         0          0          0          0          1  \n",
      "544      1         1         0          0          1          0          0  \n",
      "545      1         1         0          0          1          0          0  \n",
      "\n",
      "[546 rows x 15 columns]\n"
     ]
    }
   ],
   "source": [
    "del df[\"stories\"]\n",
    "df = df.join(df_stories)\n",
    "print(df)\n"
   ]
  },
  {
   "cell_type": "code",
   "execution_count": 13,
   "metadata": {},
   "outputs": [
    {
     "name": "stdout",
     "output_type": "stream",
     "text": [
      "              price   lotsize  bedrooms   bathrms  driveway   recroom  \\\n",
      "price      1.000000  0.535796  0.366447  0.516719  0.297167  0.254960   \n",
      "lotsize    0.535796  1.000000  0.151851  0.193833  0.288778  0.140327   \n",
      "bedrooms   0.366447  0.151851  1.000000  0.373769 -0.011996  0.080492   \n",
      "bathrms    0.516719  0.193833  0.373769  1.000000  0.041955  0.126892   \n",
      "driveway   0.297167  0.288778 -0.011996  0.041955  1.000000  0.091959   \n",
      "recroom    0.254960  0.140327  0.080492  0.126892  0.091959  1.000000   \n",
      "fullbase   0.186218  0.047487  0.097201  0.102791  0.043428  0.372434   \n",
      "gashw      0.092837 -0.009201  0.046028  0.067365 -0.011942 -0.010119   \n",
      "airco      0.453347  0.221765  0.160412  0.184955  0.106290  0.136626   \n",
      "garagepl   0.383302  0.352872  0.139117  0.178178  0.203682  0.038122   \n",
      "prefarea   0.329074  0.234782  0.078953  0.064013  0.199378  0.161292   \n",
      "stories_1 -0.270058  0.054348 -0.509974 -0.250784 -0.053249 -0.022632   \n",
      "stories_2 -0.002089 -0.159612  0.377424  0.080982 -0.047074  0.006938   \n",
      "stories_3  0.138254  0.020567  0.099150  0.036027  0.073533 -0.038733   \n",
      "stories_4  0.372281  0.178354  0.145525  0.281003  0.115453  0.067567   \n",
      "\n",
      "           fullbase     gashw     airco  garagepl  prefarea  stories_1  \\\n",
      "price      0.186218  0.092837  0.453347  0.383302  0.329074  -0.270058   \n",
      "lotsize    0.047487 -0.009201  0.221765  0.352872  0.234782   0.054348   \n",
      "bedrooms   0.097201  0.046028  0.160412  0.139117  0.078953  -0.509974   \n",
      "bathrms    0.102791  0.067365  0.184955  0.178178  0.064013  -0.250784   \n",
      "driveway   0.043428 -0.011942  0.106290  0.203682  0.199378  -0.053249   \n",
      "recroom    0.372434 -0.010119  0.136626  0.038122  0.161292  -0.022632   \n",
      "fullbase   1.000000  0.004677  0.045248  0.052524  0.228651   0.059154   \n",
      "gashw      0.004677  1.000000 -0.130350  0.068144 -0.059170  -0.060336   \n",
      "airco      0.045248 -0.130350  1.000000  0.156596  0.115626  -0.143174   \n",
      "garagepl   0.052524  0.068144  0.156596  1.000000  0.092364   0.016610   \n",
      "prefarea   0.228651 -0.059170  0.115626  0.092364  1.000000  -0.010668   \n",
      "stories_1  0.059154 -0.060336 -0.143174  0.016610 -0.010668   1.000000   \n",
      "stories_2  0.098694  0.054823 -0.074706 -0.041931 -0.059240  -0.741533   \n",
      "stories_3 -0.132540  0.072922  0.110682 -0.079170  0.143067  -0.237177   \n",
      "stories_4 -0.165285 -0.062416  0.298887  0.126112 -0.010035  -0.240361   \n",
      "\n",
      "           stories_2  stories_3  stories_4  \n",
      "price      -0.002089   0.138254   0.372281  \n",
      "lotsize    -0.159612   0.020567   0.178354  \n",
      "bedrooms    0.377424   0.099150   0.145525  \n",
      "bathrms     0.080982   0.036027   0.281003  \n",
      "driveway   -0.047074   0.073533   0.115453  \n",
      "recroom     0.006938  -0.038733   0.067567  \n",
      "fullbase    0.098694  -0.132540  -0.165285  \n",
      "gashw       0.054823   0.072922  -0.062416  \n",
      "airco      -0.074706   0.110682   0.298887  \n",
      "garagepl   -0.041931  -0.079170   0.126112  \n",
      "prefarea   -0.059240   0.143067  -0.010035  \n",
      "stories_1  -0.741533  -0.237177  -0.240361  \n",
      "stories_2   1.000000  -0.247154  -0.250472  \n",
      "stories_3  -0.247154   1.000000  -0.080113  \n",
      "stories_4  -0.250472  -0.080113   1.000000  \n"
     ]
    }
   ],
   "source": [
    "corr = df.corr()\n",
    "print(corr)"
   ]
  },
  {
   "cell_type": "code",
   "execution_count": 14,
   "metadata": {},
   "outputs": [
    {
     "data": {
      "image/png": "[encoded data removed]",
      "text/plain": [
       "<Figure size 432x288 with 2 Axes>"
      ]
     },
     "metadata": {
      "needs_background": "light"
     },
     "output_type": "display_data"
    }
   ],
   "source": [
    "import matplotlib.pyplot as plt\n",
    "import statsmodels.api as sm\n",
    "sm.graphics.plot_corr(corr, xnames=list(corr.columns))\n",
    "plt.show()"
   ]
  },
  {
   "cell_type": "code",
   "execution_count": 15,
   "metadata": {},
   "outputs": [
    {
     "data": {
      "text/plain": [
       "Index(['price', 'lotsize', 'bedrooms', 'bathrms', 'driveway', 'recroom',\n",
       "       'fullbase', 'gashw', 'airco', 'garagepl', 'prefarea', 'stories_1',\n",
       "       'stories_2', 'stories_3', 'stories_4'],\n",
       "      dtype='object')"
      ]
     },
     "execution_count": 15,
     "metadata": {},
     "output_type": "execute_result"
    }
   ],
   "source": [
    "df.columns"
   ]
  },
  {
   "cell_type": "code",
   "execution_count": 16,
   "metadata": {},
   "outputs": [],
   "source": [
    "independent_variables = ['lotsize', 'bedrooms', 'bathrms', 'driveway', 'recroom',\n",
    "       'fullbase', 'gashw', 'airco', 'garagepl', 'prefarea', 'stories_1',\n",
    "       'stories_2', 'stories_3', 'stories_4']"
   ]
  },
  {
   "cell_type": "code",
   "execution_count": 17,
   "metadata": {},
   "outputs": [],
   "source": [
    "X = df[independent_variables]\n",
    "Y = df['price']"
   ]
  },
  {
   "cell_type": "markdown",
   "metadata": {},
   "source": [
    "## Multicollinearity and Variation Inflation Factor (VIF)\n",
    "The dependent variable should have a strong relationship with independent variables.\n",
    "However, any independent variables should not have strong correlations among other\n",
    "independent variables. Multicollinearity is an incident where one or more of the\n",
    "independent variables are strongly correlated with each other. In such incidents, we\n",
    "should use only one among correlated independent variables.\n",
    "\n",
    "VIF is an indicator of the existence of multicollinearity, and ‘statsmodel’ provides a\n",
    "function to calculate the VIF for each independent variable and a value of greater than\n",
    "10 is the rule of thumb for possible existence of high multicollinearity. The standard\n",
    "guideline for VIF value is as follows, VIF = 1 means no correlation exists, VIF > 1, but < 5\n",
    "means moderate correlation exists. \n",
    "\n",
    "VIFi= 1/ 1- R^2i\n",
    "\n",
    "Where R^2i is the coefficient of determination of variable Xi"
   ]
  },
  {
   "cell_type": "code",
   "execution_count": 18,
   "metadata": {},
   "outputs": [
    {
     "name": "stdout",
     "output_type": "stream",
     "text": [
      "vif : [1.3704738112004569, 1.578326825971881, 1.2987779728705593, 1.1648811574651847, 1.214862009319293, 1.336911466238351, 1.053078869775805, 1.2195823546735252, 1.2188329290613054, 1.181239434106175, 11.781465345739338, 17.220894903652624, 3.943698568447546, 4.544836339845972]\n",
      "dropping 'stories_2'at index: 11\n",
      "vif : [9.027672411240845, 12.40877864989557, 9.374682124313615, 6.79426994395169, 1.4753724454932144, 2.055797712632685, 1.1031283327561414, 1.785054332017555, 1.9607784997238862, 1.5317205065647908, 1.8969940907498246, 1.2786005279235881, 1.4546157757803124]\n",
      "dropping 'bedrooms'at index: 1\n",
      "Final variables: ['lotsize', 'bathrms', 'driveway', 'recroom', 'fullbase', 'gashw', 'airco', 'garagepl', 'prefarea', 'stories_1', 'stories_3', 'stories_4']\n"
     ]
    }
   ],
   "source": [
    "from statsmodels.stats.outliers_influence import variance_inflation_factor\n",
    "import numpy as np\n",
    "thresh = 10\n",
    "for i in np.arange(0,len(independent_variables)):\n",
    "  vif = [variance_inflation_factor(X[independent_variables].values, ix)\n",
    "  for ix in range(X[independent_variables].shape[1])]\n",
    "  maxloc = vif.index(max(vif))    \n",
    "  if max(vif) > thresh:\n",
    "        print (\"vif :\", vif)        \n",
    "        print('dropping \\'' + X[independent_variables].columns[maxloc] + '\\'at index: ' + str(maxloc))\n",
    "        del independent_variables[maxloc]\n",
    "  else:\n",
    "     break\n",
    "print( 'Final variables:', independent_variables)"
   ]
  },
  {
   "cell_type": "code",
   "execution_count": 19,
   "metadata": {},
   "outputs": [
    {
     "data": {
      "text/plain": [
       "3"
      ]
     },
     "execution_count": 19,
     "metadata": {},
     "output_type": "execute_result"
    }
   ],
   "source": [
    "Y = np.arange(12).reshape(3,4)\n",
    "Y\n",
    "Y.shape\n",
    "\n",
    "Y.shape[0]\n",
    "3"
   ]
  },
  {
   "cell_type": "code",
   "execution_count": 20,
   "metadata": {},
   "outputs": [
    {
     "data": {
      "text/plain": [
       "4"
      ]
     },
     "execution_count": 20,
     "metadata": {},
     "output_type": "execute_result"
    }
   ],
   "source": [
    "Y.shape[1]"
   ]
  },
  {
   "cell_type": "code",
   "execution_count": 21,
   "metadata": {},
   "outputs": [
    {
     "name": "stdout",
     "output_type": "stream",
     "text": [
      "      feature        VIF\n",
      "0     lotsize   1.370474\n",
      "1    bedrooms   1.578327\n",
      "2     bathrms   1.298778\n",
      "3    driveway   1.164881\n",
      "4     recroom   1.214862\n",
      "5    fullbase   1.336911\n",
      "6       gashw   1.053079\n",
      "7       airco   1.219582\n",
      "8    garagepl   1.218833\n",
      "9    prefarea   1.181239\n",
      "10  stories_1  11.781465\n",
      "11  stories_2  17.220895\n",
      "12  stories_3   3.943699\n",
      "13  stories_4   4.544836\n"
     ]
    }
   ],
   "source": [
    "vif_data = pd.DataFrame()\n",
    "vif_data[\"feature\"] = X.columns\n",
    "  \n",
    "# calculating VIF for each feature\n",
    "vif_data[\"VIF\"] = [variance_inflation_factor(X.values, i)\n",
    "                          for i in range(len(X.columns))]\n",
    "  \n",
    "print(vif_data)"
   ]
  },
  {
   "cell_type": "code",
   "execution_count": 22,
   "metadata": {},
   "outputs": [],
   "source": [
    "independent_variables = ['lotsize', 'bedrooms', 'bathrms', 'driveway', 'recroom',\n",
    "                         'fullbase', 'gashw', 'airco', 'garagepl', 'prefarea', 'stories_1', 'stories_3', 'stories_4']"
   ]
  },
  {
   "cell_type": "code",
   "execution_count": 23,
   "metadata": {},
   "outputs": [],
   "source": [
    "X = df[independent_variables]\n",
    "Y = df['price']"
   ]
  },
  {
   "cell_type": "code",
   "execution_count": 24,
   "metadata": {},
   "outputs": [
    {
     "name": "stdout",
     "output_type": "stream",
     "text": [
      "                                 OLS Regression Results                                \n",
      "=======================================================================================\n",
      "Dep. Variable:                  price   R-squared (uncentered):                   0.958\n",
      "Model:                            OLS   Adj. R-squared (uncentered):              0.956\n",
      "Method:                 Least Squares   F-statistic:                              646.6\n",
      "Date:                Sat, 26 Nov 2022   Prob (F-statistic):                   1.08e-244\n",
      "Time:                        12:05:32   Log-Likelihood:                         -4208.5\n",
      "No. Observations:                 382   AIC:                                      8443.\n",
      "Df Residuals:                     369   BIC:                                      8494.\n",
      "Df Model:                          13                                                  \n",
      "Covariance Type:            nonrobust                                                  \n",
      "==============================================================================\n",
      "                 coef    std err          t      P>|t|      [0.025      0.975]\n",
      "------------------------------------------------------------------------------\n",
      "lotsize        3.7623      0.450      8.357      0.000       2.877       4.648\n",
      "bedrooms    4151.2548    905.720      4.583      0.000    2370.235    5932.275\n",
      "bathrms     1.289e+04   1857.913      6.938      0.000    9236.419    1.65e+04\n",
      "driveway    7376.9572   2102.726      3.508      0.001    3242.128    1.15e+04\n",
      "recroom     6268.7344   2271.107      2.760      0.006    1802.799    1.07e+04\n",
      "fullbase    4520.3593   1901.067      2.378      0.018     782.076    8258.642\n",
      "gashw       1.163e+04   3741.143      3.108      0.002    4270.737     1.9e+04\n",
      "airco       1.226e+04   1865.706      6.571      0.000    8591.288    1.59e+04\n",
      "garagepl    3974.2454   1000.758      3.971      0.000    2006.342    5942.149\n",
      "prefarea    6999.3541   1984.094      3.528      0.000    3097.804    1.09e+04\n",
      "stories_1  -2426.2894   1630.281     -1.488      0.138   -5632.096     779.517\n",
      "stories_3   9754.6565   3393.841      2.874      0.004    3080.961    1.64e+04\n",
      "stories_4   1.955e+04   3413.334      5.726      0.000    1.28e+04    2.63e+04\n",
      "==============================================================================\n",
      "Omnibus:                       69.604   Durbin-Watson:                   2.049\n",
      "Prob(Omnibus):                  0.000   Jarque-Bera (JB):              216.939\n",
      "Skew:                           0.814   Prob(JB):                     7.80e-48\n",
      "Kurtosis:                       6.314   Cond. No.                     2.84e+04\n",
      "==============================================================================\n",
      "\n",
      "Notes:\n",
      "[1] R² is computed without centering (uncentered) since the model does not contain a constant.\n",
      "[2] Standard Errors assume that the covariance matrix of the errors is correctly specified.\n",
      "[3] The condition number is large, 2.84e+04. This might indicate that there are\n",
      "strong multicollinearity or other numerical problems.\n"
     ]
    }
   ],
   "source": [
    "from sklearn.model_selection import train_test_split\n",
    "X_train, X_test, y_train, y_test = train_test_split(X, Y, test_size=0.3, random_state=0)\n",
    "model = sm.OLS(y_train, X_train).fit()\n",
    "print(model.summary())"
   ]
  },
  {
   "cell_type": "code",
   "execution_count": 25,
   "metadata": {},
   "outputs": [
    {
     "name": "stdout",
     "output_type": "stream",
     "text": [
      "463     64466.679866\n",
      "206     34091.040519\n",
      "38      90286.809350\n",
      "188     50848.902493\n",
      "361    141686.619737\n",
      "           ...      \n",
      "70      49498.278950\n",
      "277     51744.155927\n",
      "9      108352.660070\n",
      "359    108280.495395\n",
      "192     42410.784009\n",
      "Length: 382, dtype: float64\n"
     ]
    }
   ],
   "source": [
    "y_train_pred = pd.DataFrame()\n",
    "y_train_pred = model.predict(X_train)\n",
    "print(y_train_pred)"
   ]
  },
  {
   "cell_type": "code",
   "execution_count": 31,
   "metadata": {},
   "outputs": [],
   "source": [
    "def Var_inf(x):\n",
    "    vif = pd.DataFrame()\n",
    "    vif['Variables'] = X.columns\n",
    "    vif['VIF'] = [variance_inflation_factor(X.values,i) for i in range (len(X.columns))]\n",
    "    \n",
    "    return vif"
   ]
  },
  {
   "cell_type": "code",
   "execution_count": 62,
   "metadata": {},
   "outputs": [
    {
     "name": "stdout",
     "output_type": "stream",
     "text": [
      "    Variables    VIF\n",
      "0     lotsize   9.03\n",
      "1    bedrooms  12.41\n",
      "2     bathrms   9.37\n",
      "3    driveway   6.79\n",
      "4     recroom   1.48\n",
      "5    fullbase   2.06\n",
      "6       gashw   1.10\n",
      "7       airco   1.79\n",
      "8    garagepl   1.96\n",
      "9    prefarea   1.53\n",
      "10  stories_1   1.90\n",
      "11  stories_3   1.28\n",
      "12  stories_4   1.45\n"
     ]
    }
   ],
   "source": [
    "print(np.around(Var_inf(X),2))"
   ]
  },
  {
   "cell_type": "code",
   "execution_count": 36,
   "metadata": {},
   "outputs": [],
   "source": [
    "x = X.drop('bedrooms', axis = 1)"
   ]
  },
  {
   "cell_type": "code",
   "execution_count": 38,
   "metadata": {},
   "outputs": [
    {
     "name": "stdout",
     "output_type": "stream",
     "text": [
      "Index(['lotsize', 'bathrms', 'driveway', 'recroom', 'fullbase', 'gashw',\n",
      "       'airco', 'garagepl', 'prefarea', 'stories_1', 'stories_3', 'stories_4'],\n",
      "      dtype='object')\n"
     ]
    }
   ],
   "source": [
    "print(x.columns)"
   ]
  },
  {
   "cell_type": "code",
   "execution_count": 42,
   "metadata": {},
   "outputs": [],
   "source": [
    "def Var_inf(x):\n",
    "    vif = pd.DataFrame()\n",
    "    vif['Variables'] = x.columns\n",
    "    vif['VIF'] = [variance_inflation_factor(x.values,i) for i in range (len(x.columns))]\n",
    "    \n",
    "    return vif"
   ]
  },
  {
   "cell_type": "code",
   "execution_count": 64,
   "metadata": {},
   "outputs": [
    {
     "name": "stdout",
     "output_type": "stream",
     "text": [
      "    Variables    VIF\n",
      "0       const  18.06\n",
      "1     lotsize   1.34\n",
      "2     bathrms   1.23\n",
      "3    driveway   1.15\n",
      "4     recroom   1.21\n",
      "5    fullbase   1.33\n",
      "6       gashw   1.05\n",
      "7       airco   1.22\n",
      "8    garagepl   1.21\n",
      "9    prefarea   1.18\n",
      "10  stories_1   1.22\n",
      "11  stories_3   1.19\n",
      "12  stories_4   1.34\n"
     ]
    }
   ],
   "source": [
    "print(np.around(Var_inf(x),2))"
   ]
  },
  {
   "cell_type": "code",
   "execution_count": 66,
   "metadata": {},
   "outputs": [],
   "source": [
    "import statsmodels.api as sm"
   ]
  },
  {
   "cell_type": "code",
   "execution_count": 67,
   "metadata": {},
   "outputs": [
    {
     "name": "stdout",
     "output_type": "stream",
     "text": [
      "                            OLS Regression Results                            \n",
      "==============================================================================\n",
      "Dep. Variable:                  price   R-squared:                       0.671\n",
      "Model:                            OLS   Adj. R-squared:                  0.664\n",
      "Method:                 Least Squares   F-statistic:                     90.70\n",
      "Date:                Sat, 26 Nov 2022   Prob (F-statistic):          2.81e-120\n",
      "Time:                        12:57:22   Log-Likelihood:                -6035.6\n",
      "No. Observations:                 546   AIC:                         1.210e+04\n",
      "Df Residuals:                     533   BIC:                         1.215e+04\n",
      "Df Model:                          12                                         \n",
      "Covariance Type:            nonrobust                                         \n",
      "==============================================================================\n",
      "                 coef    std err          t      P>|t|      [0.025      0.975]\n",
      "------------------------------------------------------------------------------\n",
      "const       1.366e+04   2815.452      4.852      0.000    8130.362    1.92e+04\n",
      "lotsize        3.5854      0.354     10.118      0.000       2.889       4.282\n",
      "bathrms     1.493e+04   1461.639     10.214      0.000    1.21e+04    1.78e+04\n",
      "driveway    6252.4077   2039.021      3.066      0.002    2246.905    1.03e+04\n",
      "recroom     4426.7379   1910.495      2.317      0.021     673.713    8179.762\n",
      "fullbase    5897.7955   1599.573      3.687      0.000    2755.554    9040.037\n",
      "gashw       1.298e+04   3252.697      3.991      0.000    6590.824    1.94e+04\n",
      "airco       1.257e+04   1571.670      7.997      0.000    9481.086    1.57e+04\n",
      "garagepl    4353.8581    846.714      5.142      0.000    2690.552    6017.164\n",
      "prefarea    9423.5811   1699.176      5.546      0.000    6085.677    1.28e+04\n",
      "stories_1  -6885.4251   1484.603     -4.638      0.000   -9801.816   -3969.034\n",
      "stories_3   7378.6747   2772.696      2.661      0.008    1931.923    1.28e+04\n",
      "stories_4   1.468e+04   2913.184      5.039      0.000    8957.578    2.04e+04\n",
      "==============================================================================\n",
      "Omnibus:                       99.809   Durbin-Watson:                   1.606\n",
      "Prob(Omnibus):                  0.000   Jarque-Bera (JB):              273.987\n",
      "Skew:                           0.896   Prob(JB):                     3.20e-60\n",
      "Kurtosis:                       5.972   Cond. No.                     2.80e+04\n",
      "==============================================================================\n",
      "\n",
      "Notes:\n",
      "[1] Standard Errors assume that the covariance matrix of the errors is correctly specified.\n",
      "[2] The condition number is large, 2.8e+04. This might indicate that there are\n",
      "strong multicollinearity or other numerical problems.\n"
     ]
    }
   ],
   "source": [
    "x = sm.add_constant(x)\n",
    "model = sm.OLS(Y,x).fit()\n",
    "print(model.summary())"
   ]
  },
  {
   "cell_type": "code",
   "execution_count": 50,
   "metadata": {},
   "outputs": [],
   "source": [
    "from statsmodels.stats.outliers_influence import variance_inflation_factor"
   ]
  },
  {
   "cell_type": "code",
   "execution_count": 51,
   "metadata": {},
   "outputs": [],
   "source": [
    "x1 = x.drop('lotsize', axis = 1)"
   ]
  },
  {
   "cell_type": "code",
   "execution_count": 52,
   "metadata": {},
   "outputs": [
    {
     "name": "stdout",
     "output_type": "stream",
     "text": [
      "     const  bathrms  driveway  recroom  fullbase  gashw  airco  garagepl  \\\n",
      "0      1.0        1         1        0         1      0      0         1   \n",
      "1      1.0        1         1        0         0      0      0         0   \n",
      "2      1.0        1         1        0         0      0      0         0   \n",
      "3      1.0        1         1        1         0      0      0         0   \n",
      "4      1.0        1         1        0         0      0      0         0   \n",
      "..     ...      ...       ...      ...       ...    ...    ...       ...   \n",
      "541    1.0        2         1        1         0      0      1         0   \n",
      "542    1.0        2         1        0         0      0      1         0   \n",
      "543    1.0        2         1        1         0      0      1         1   \n",
      "544    1.0        2         1        1         0      0      1         1   \n",
      "545    1.0        1         1        0         0      0      1         1   \n",
      "\n",
      "     prefarea  stories_1  stories_3  stories_4  \n",
      "0           0          0          0          0  \n",
      "1           0          1          0          0  \n",
      "2           0          1          0          0  \n",
      "3           0          0          0          0  \n",
      "4           0          1          0          0  \n",
      "..        ...        ...        ...        ...  \n",
      "541         0          0          0          1  \n",
      "542         0          0          0          1  \n",
      "543         0          0          0          1  \n",
      "544         0          0          0          0  \n",
      "545         0          0          0          0  \n",
      "\n",
      "[546 rows x 12 columns]\n"
     ]
    }
   ],
   "source": [
    "print(x1)"
   ]
  },
  {
   "cell_type": "code",
   "execution_count": 57,
   "metadata": {},
   "outputs": [],
   "source": [
    "def var_inf(x):\n",
    "    vif = pd.DataFrame()\n",
    "    vif['Variables'] = x1.columns\n",
    "    vif['VIF'] = [variance_inflation_factor(x1.values, i) for i in range (len(x1.columns))]\n",
    "    return vif"
   ]
  },
  {
   "cell_type": "code",
   "execution_count": 65,
   "metadata": {},
   "outputs": [
    {
     "name": "stdout",
     "output_type": "stream",
     "text": [
      "    Variables    VIF\n",
      "0       const  16.37\n",
      "1     bathrms   1.21\n",
      "2    driveway   1.10\n",
      "3     recroom   1.21\n",
      "4    fullbase   1.32\n",
      "5       gashw   1.05\n",
      "6       airco   1.20\n",
      "7    garagepl   1.12\n",
      "8    prefarea   1.15\n",
      "9   stories_1   1.19\n",
      "10  stories_3   1.19\n",
      "11  stories_4   1.33\n"
     ]
    }
   ],
   "source": [
    "print(np.around(var_inf(x1),2))"
   ]
  },
  {
   "cell_type": "code",
   "execution_count": 61,
   "metadata": {},
   "outputs": [
    {
     "name": "stdout",
     "output_type": "stream",
     "text": [
      "                            OLS Regression Results                            \n",
      "==============================================================================\n",
      "Dep. Variable:                  price   R-squared:                       0.671\n",
      "Model:                            OLS   Adj. R-squared:                  0.664\n",
      "Method:                 Least Squares   F-statistic:                     90.70\n",
      "Date:                Sat, 26 Nov 2022   Prob (F-statistic):          2.81e-120\n",
      "Time:                        12:38:08   Log-Likelihood:                -6035.6\n",
      "No. Observations:                 546   AIC:                         1.210e+04\n",
      "Df Residuals:                     533   BIC:                         1.215e+04\n",
      "Df Model:                          12                                         \n",
      "Covariance Type:            nonrobust                                         \n",
      "==============================================================================\n",
      "                 coef    std err          t      P>|t|      [0.025      0.975]\n",
      "------------------------------------------------------------------------------\n",
      "const       1.366e+04   2815.452      4.852      0.000    8130.362    1.92e+04\n",
      "lotsize        3.5854      0.354     10.118      0.000       2.889       4.282\n",
      "bathrms     1.493e+04   1461.639     10.214      0.000    1.21e+04    1.78e+04\n",
      "driveway    6252.4077   2039.021      3.066      0.002    2246.905    1.03e+04\n",
      "recroom     4426.7379   1910.495      2.317      0.021     673.713    8179.762\n",
      "fullbase    5897.7955   1599.573      3.687      0.000    2755.554    9040.037\n",
      "gashw       1.298e+04   3252.697      3.991      0.000    6590.824    1.94e+04\n",
      "airco       1.257e+04   1571.670      7.997      0.000    9481.086    1.57e+04\n",
      "garagepl    4353.8581    846.714      5.142      0.000    2690.552    6017.164\n",
      "prefarea    9423.5811   1699.176      5.546      0.000    6085.677    1.28e+04\n",
      "stories_1  -6885.4251   1484.603     -4.638      0.000   -9801.816   -3969.034\n",
      "stories_3   7378.6747   2772.696      2.661      0.008    1931.923    1.28e+04\n",
      "stories_4   1.468e+04   2913.184      5.039      0.000    8957.578    2.04e+04\n",
      "==============================================================================\n",
      "Omnibus:                       99.809   Durbin-Watson:                   1.606\n",
      "Prob(Omnibus):                  0.000   Jarque-Bera (JB):              273.987\n",
      "Skew:                           0.896   Prob(JB):                     3.20e-60\n",
      "Kurtosis:                       5.972   Cond. No.                     2.80e+04\n",
      "==============================================================================\n",
      "\n",
      "Notes:\n",
      "[1] Standard Errors assume that the covariance matrix of the errors is correctly specified.\n",
      "[2] The condition number is large, 2.8e+04. This might indicate that there are\n",
      "strong multicollinearity or other numerical problems.\n"
     ]
    }
   ],
   "source": [
    "model = sm.OLS(Y,x).fit()\n",
    "print(model.summary())"
   ]
  },
  {
   "cell_type": "code",
   "execution_count": 3,
   "metadata": {},
   "outputs": [
    {
     "data": {
      "text/plain": [
       "'C:\\\\Users\\\\USER'"
      ]
     },
     "execution_count": 3,
     "metadata": {},
     "output_type": "execute_result"
    }
   ],
   "source": [
    "import os\n",
    "os.getcwd()"
   ]
  },
  {
   "cell_type": "code",
   "execution_count": 6,
   "metadata": {},
   "outputs": [],
   "source": [
    "os.chdir('C:\\\\Users\\\\USER\\\\Documents')"
   ]
  },
  {
   "cell_type": "code",
   "execution_count": 10,
   "metadata": {},
   "outputs": [
    {
     "data": {
      "text/html": [
       "<div>\n",
       "<style scoped>\n",
       "    .dataframe tbody tr th:only-of-type {\n",
       "        vertical-align: middle;\n",
       "    }\n",
       "\n",
       "    .dataframe tbody tr th {\n",
       "        vertical-align: top;\n",
       "    }\n",
       "\n",
       "    .dataframe thead th {\n",
       "        text-align: right;\n",
       "    }\n",
       "</style>\n",
       "<table border=\"1\" class=\"dataframe\">\n",
       "  <thead>\n",
       "    <tr style=\"text-align: right;\">\n",
       "      <th></th>\n",
       "      <th>Hours_Studied</th>\n",
       "      <th>Test_Grade</th>\n",
       "    </tr>\n",
       "  </thead>\n",
       "  <tbody>\n",
       "    <tr>\n",
       "      <th>0</th>\n",
       "      <td>2</td>\n",
       "      <td>57</td>\n",
       "    </tr>\n",
       "    <tr>\n",
       "      <th>1</th>\n",
       "      <td>3</td>\n",
       "      <td>66</td>\n",
       "    </tr>\n",
       "    <tr>\n",
       "      <th>2</th>\n",
       "      <td>4</td>\n",
       "      <td>73</td>\n",
       "    </tr>\n",
       "    <tr>\n",
       "      <th>3</th>\n",
       "      <td>5</td>\n",
       "      <td>76</td>\n",
       "    </tr>\n",
       "    <tr>\n",
       "      <th>4</th>\n",
       "      <td>6</td>\n",
       "      <td>79</td>\n",
       "    </tr>\n",
       "    <tr>\n",
       "      <th>5</th>\n",
       "      <td>7</td>\n",
       "      <td>81</td>\n",
       "    </tr>\n",
       "    <tr>\n",
       "      <th>6</th>\n",
       "      <td>8</td>\n",
       "      <td>90</td>\n",
       "    </tr>\n",
       "    <tr>\n",
       "      <th>7</th>\n",
       "      <td>9</td>\n",
       "      <td>96</td>\n",
       "    </tr>\n",
       "    <tr>\n",
       "      <th>8</th>\n",
       "      <td>10</td>\n",
       "      <td>100</td>\n",
       "    </tr>\n",
       "  </tbody>\n",
       "</table>\n",
       "</div>"
      ],
      "text/plain": [
       "   Hours_Studied  Test_Grade\n",
       "0              2          57\n",
       "1              3          66\n",
       "2              4          73\n",
       "3              5          76\n",
       "4              6          79\n",
       "5              7          81\n",
       "6              8          90\n",
       "7              9          96\n",
       "8             10         100"
      ]
     },
     "execution_count": 10,
     "metadata": {},
     "output_type": "execute_result"
    }
   ],
   "source": [
    "import pandas as pd\n",
    "import numpy as np\n",
    "df = pd.read_csv('Grade_Set_1.csv')\n",
    "df"
   ]
  },
  {
   "cell_type": "code",
   "execution_count": null,
   "metadata": {},
   "outputs": [],
   "source": []
  }
 ],
 "metadata": {
  "kernelspec": {
   "display_name": "Python 3",
   "language": "python",
   "name": "python3"
  },
  "language_info": {
   "codemirror_mode": {
    "name": "ipython",
    "version": 3
   },
   "file_extension": ".py",
   "mimetype": "text/x-python",
   "name": "python",
   "nbconvert_exporter": "python",
   "pygments_lexer": "ipython3",
   "version": "3.8.8"
  }
 },
 "nbformat": 4,
 "nbformat_minor": 4
}
